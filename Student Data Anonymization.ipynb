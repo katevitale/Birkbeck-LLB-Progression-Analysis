{
 "cells": [
  {
   "cell_type": "markdown",
   "metadata": {},
   "source": [
    "# Student Data Anonymization"
   ]
  },
  {
   "cell_type": "markdown",
   "metadata": {},
   "source": [
    "Student data at Birkbeck College is stored in a format that includes student's identifying information. This script is used to anonymize individual BSIS module data sheets to prepare them to be exported outside the university. Anonymization entails stripping indentifying student information and assigning a random unique code to each student. A dictionary is used to map each random code to its Birkbeck's student code, and this dictionary is saved in excel and kept at Birkbeck.  "
   ]
  },
  {
   "cell_type": "code",
   "execution_count": null,
   "metadata": {},
   "outputs": [],
   "source": [
    "# import standard python libraries and custom script package written by KV\n",
    "import pandas as pd\n",
    "import os\n",
    "import LLB_custom_scripts\n",
    "import csv"
   ]
  },
  {
   "cell_type": "code",
   "execution_count": null,
   "metadata": {
    "scrolled": true
   },
   "outputs": [],
   "source": [
    "# Paths below must be specified by the user.\n",
    "#\n",
    "# If using Windows operating system, the user must:\n",
    "#\n",
    "# 1) Use double quotes around the path names\n",
    "# 2) Use \"/\" instead of \"\\\"\n",
    "# 3) Put a \"/\" at the end of the path\n",
    "\n",
    "input_path = \"path where xls files are located\"\n",
    "csv_path = \"path for csv files to be saved\"\n",
    "SPR_dict_path = \"path for SPR code dictionary to be saved\"\n",
    "anon_module_csv_path = \"path for anonymized modules to be saved\"\n",
    "anon_progression_csv_path = \"path for anonymized prog. files to be saved\"\n",
    "\n",
    "# This and the next block use methods from the LLB_custom_scripts\n",
    "# package KV wrote and which was imported above.\n",
    "#\n",
    "# This block converts all xls datafiles into csv files, \n",
    "# which are easier to process in Python.\n",
    "# \n",
    "# For each file in path specified by 'input_path':\n",
    "# convert to csv if necessary and \n",
    "# save csv to 'csv_path'.\n",
    "\n",
    "for name in os.listdir(input_path):\n",
    "    if name == '.DS_Store': \n",
    "        continue\n",
    "    elif name.split('.')[-1] == 'xlsx' or 'xls':\n",
    "        xls_name = f'{input_path}' + name  \n",
    "        LLB_custom_scripts.csv_from_xls(xls_name, csv_path)\n",
    "    elif name.split('.')[-1] == 'csv': \n",
    "        open(f'{csv_path}' + name) \n",
    "        close(f'{csv_path}' + name)"
   ]
  },
  {
   "cell_type": "code",
   "execution_count": null,
   "metadata": {},
   "outputs": [],
   "source": [
    "# This block anonymizes csv files and saves them to separate\n",
    "# directories (folders) for module files and progression files. \n",
    "#\n",
    "# These folders should be compressed and sent to KV for further \n",
    "# processing.\n",
    "#\n",
    "# The keys to the anonymized SPR codes are stored in global \n",
    "# SPR_dict. \n",
    "#\n",
    "# Each file's SPR code dictionary is stored temporarily\n",
    "# in order to add it to the global SPR code dictionary. \n",
    "# \n",
    "# Each anonymized module and progression file's df is stored \n",
    "# in a df dictionary with name as key.\n",
    "\n",
    "global_SPR_dict = {}\n",
    "tmp_module_SPR_dict = {}  \n",
    "tmp_prog_SPR_dict = {}\n",
    "anon_module_dict = {} \n",
    "anon_prog_dict = {}\n",
    "\n",
    "for filename in os.listdir(csv_path):\n",
    "    if filename == '.DS_Store':\n",
    "        continue\n",
    "    else:\n",
    "        name = filename.split('.')[0]\n",
    "        if name.split('_')[1] == 'PROGRESSION': \n",
    "            # Run progression anonymizer.\n",
    "            print('progfile: ' + filename)\n",
    "            tmp_prog_SPR_dict, new_df = \\\n",
    "                LLB_custom_scripts.anonymize_progression(\n",
    "                csv_path + f'{filename}', global_SPR_dict)\n",
    "            global_SPR_dict.update(tmp_prog_SPR_dict)                   \n",
    "            anon_prog_dict[f'{filename}'.split('.')[0]] = new_df \n",
    "        elif name.split('_')[0][0] == str(2): # Module file\n",
    "            # Run module anonymizer.\n",
    "            print('modfile: ' + filename)\n",
    "            tmp_module_SPR_dict, new_df = \\\n",
    "                LLB_custom_scripts.anonymize_module(\n",
    "                csv_path + f'{filename}', global_SPR_dict)\n",
    "            global_SPR_dict.update(tmp_module_SPR_dict)\n",
    "            anon_module_dict[f'{filename}'.split('.')[0]] = new_df\n",
    "        else: \n",
    "            print('error in processing ' + filename)\n",
    "            "
   ]
  },
  {
   "cell_type": "code",
   "execution_count": null,
   "metadata": {},
   "outputs": [],
   "source": [
    "# The global SPR code dictionary is exported to a csv file \n",
    "# found at SPR_dict_path.\n",
    "with open(\n",
    "    SPR_dict_path + 'SPR Code Dictionary.csv', 'w') as csv_file:\n",
    "    writer = csv.writer(csv_file)\n",
    "    for key, value in global_SPR_dict.items():\n",
    "       writer.writerow([key, value])"
   ]
  },
  {
   "cell_type": "code",
   "execution_count": null,
   "metadata": {},
   "outputs": [],
   "source": [
    "# Loop through anonymized dataframes and save them to csv\n",
    "# to be imported by other users if necessary.\n",
    "\n",
    "for dfname, df in anon_module_dict.items():\n",
    "    df.to_csv(anon_module_csv_path + f'{dfname}' + '.csv')\n",
    "\n",
    "for dfname, df in anon_prog_dict.items():\n",
    "    df.to_csv(anon_progression_csv_path + f'{dfname}' + '.csv')"
   ]
  }
 ],
 "metadata": {
  "kernelspec": {
   "display_name": "Python 3",
   "language": "python",
   "name": "python3"
  },
  "language_info": {
   "codemirror_mode": {
    "name": "ipython",
    "version": 3
   },
   "file_extension": ".py",
   "mimetype": "text/x-python",
   "name": "python",
   "nbconvert_exporter": "python",
   "pygments_lexer": "ipython3",
   "version": "3.7.0"
  }
 },
 "nbformat": 4,
 "nbformat_minor": 2
}
