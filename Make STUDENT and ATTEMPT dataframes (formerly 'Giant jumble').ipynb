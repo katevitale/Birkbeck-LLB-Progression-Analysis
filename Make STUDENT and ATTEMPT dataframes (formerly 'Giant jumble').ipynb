{
 "cells": [
  {
   "cell_type": "code",
   "execution_count": null,
   "metadata": {},
   "outputs": [],
   "source": [
    "##########################################\n",
    "\n",
    "# Start here once given anonymized csvs.\n",
    "\n",
    "###########################################\n",
    "# %matplotlib notebook\n",
    "import pandas as pd\n",
    "import numpy as np\n",
    "import matplotlib.pyplot as plt\n",
    "from matplotlib.lines import Line2D\n",
    "import os\n",
    "import LLB_custom_scripts_mac\n",
    "from LLB_custom_scripts_mac import make_module_summary\n",
    "import csv\n",
    "from collections import Counter\n",
    "import re"
   ]
  },
  {
   "cell_type": "code",
   "execution_count": null,
   "metadata": {},
   "outputs": [],
   "source": [
    "# Loop through anonymized files and save the dataframes \n",
    "# of progression and module files in separate dictionaries.\n",
    "# Also make a dictionary with the number of assessments in \n",
    "# each module, each year.\n",
    "\n",
    "# Paths for locating anonymized csvs:\n",
    "anon_module_csv_path = (\"/Users/Kate/Desktop/Vicky project/\"\n",
    "                        \"Data/anonymized module csvs/\")\n",
    "\n",
    "anon_progression_csv_path = (\"/Users/Kate/Desktop/Vicky project/\"\n",
    "                            \"Data/anonymized progression csvs/\")\n",
    "\n",
    "progression_files = {}\n",
    "module_files = {}\n",
    "n_assessments_module_dict = {}\n",
    "\n",
    "# Loop\n",
    "for filename in os.listdir(anon_module_csv_path):\n",
    "    if filename == '.DS_Store': \n",
    "        continue\n",
    "    else:\n",
    "        # Convert csv to dataframe and store in a dictionary.\n",
    "        module_name = f'{filename}'.split('.')[0]\n",
    "        module_files[module_name] = pd.read_csv(\n",
    "            anon_module_csv_path + f'{filename}')\n",
    "        module_files[module_name].set_index('SPR Code', inplace=True)\n",
    "        num_assessments = module_files[module_name].columns[-1].split(' ')[1]\n",
    "        n_assessments_module_dict[module_name] = num_assessments\n",
    "for filename in os.listdir(anon_progression_csv_path):\n",
    "    if filename == '.DS_Store': \n",
    "        continue\n",
    "    else:\n",
    "        # Convert csv to dataframe and store in a dictionary.\n",
    "        progression_files[f'{filename}'.split('.')[0]] = pd.read_csv(\n",
    "            anon_progression_csv_path + f'{filename}')\n",
    "        progression_files[f'{filename}'.split('.')[0]].set_index(\n",
    "            'SPR Code', inplace=True)"
   ]
  },
  {
   "cell_type": "code",
   "execution_count": null,
   "metadata": {},
   "outputs": [],
   "source": [
    "# Store the 201011 module files for comparison\n",
    "anon_module_path_200910 = (\"/Users/Kate/Desktop/Vicky project/\"\n",
    "                        \"Data/anonymized module csvs - starting 2009-2010/\")\n",
    "\n",
    "mod_files_2010 ={}\n",
    "for filename in os.listdir(anon_module_path_200910):\n",
    "    if filename == '.DS_Store':\n",
    "        continue\n",
    "    else:\n",
    "        year, module, tmp = f'{filename}'.split('.')[0].split('_')\n",
    "        if year == '201011':\n",
    "            df = pd.read_csv(anon_module_path_200910 + f'{filename}')\n",
    "            mod_files_2010[module] = df.set_index('SPR Code')\n",
    "                                                 "
   ]
  },
  {
   "cell_type": "code",
   "execution_count": null,
   "metadata": {},
   "outputs": [],
   "source": [
    "# Remove all students with blank results\n",
    "for dfname, df in module_files.items():\n",
    "    module_files[dfname] = df[df['Result'].notnull()]"
   ]
  },
  {
   "cell_type": "code",
   "execution_count": null,
   "metadata": {},
   "outputs": [],
   "source": [
    "# Remove all students not in the LLB programme\n",
    "for dfname, df in module_files.items():\n",
    "    module_files[dfname] = df[df['Programme'].str.startswith('LLB Law')] "
   ]
  },
  {
   "cell_type": "code",
   "execution_count": null,
   "metadata": {},
   "outputs": [],
   "source": [
    "# Remove all duplicated student entries from module dataframes \n",
    "# since confusion about a variable, will have to remove all that were duplicated\n",
    "for dfname, df in module_files.items():\n",
    "    module_files[dfname] = df[~df.index.duplicated(keep=False)]"
   ]
  },
  {
   "cell_type": "code",
   "execution_count": null,
   "metadata": {},
   "outputs": [],
   "source": [
    "# Add reassess flag\n",
    "def determine_reassess_and_dr_flags(df):\n",
    "    df['Reassess Flag'] = df.apply(lambda row: any(row.isin(['FR'])), axis = 1)   \n",
    "    df['DR Flag'] = df.apply(lambda row: (any(row.isin(['DR'])) & (row['Result'] != 'D')), axis = 1) \n",
    "    ######### better way to catch assessment DRs only??? ########\n",
    "    return df\n",
    "            \n",
    "for dfname, df in module_files.items():\n",
    "    module_files[dfname] = determine_reassess_and_dr_flags(df)"
   ]
  },
  {
   "cell_type": "code",
   "execution_count": null,
   "metadata": {},
   "outputs": [],
   "source": [
    "# Create student records dictionary\n",
    "\n",
    "# create dataframes with \n",
    "student_attempts = pd.DataFrame()\n",
    "student_grades = pd.DataFrame()\n",
    "student_reassess_flags = pd.DataFrame()\n",
    "student_dr_flags = pd.DataFrame()\n",
    "student_marks = pd.DataFrame()\n",
    "\n",
    "for dfname, df in module_files.items():\n",
    "    year, module, tmp = dfname.split('_')\n",
    "    student_attempts = student_attempts.join(df[['Attempt']], how='outer')\n",
    "    student_attempts.rename(columns={'Attempt': f'{year} {module}'}, inplace=True)\n",
    "    student_grades = student_grades.join(df[['Grade']], how='outer')\n",
    "    student_grades.rename(columns={'Grade': f'{year} {module}'},inplace=True)\n",
    "    if any(df.columns == 'Mark'):\n",
    "        student_marks = student_marks.join(df[['Mark']], how='outer')\n",
    "        student_marks.rename(columns={'Mark':f'{year} {module}'}, inplace=True)\n",
    "    else:\n",
    "        student_marks = student_marks.join(df[['Grade']], how='outer')\n",
    "        student_marks.rename(columns={'Grade':f'{year} {module}'}, inplace=True)\n",
    "        student_marks[f'{year} {module}'] = np.NaN\n",
    "    student_reassess_flags = student_reassess_flags.join(df[['Reassess Flag']], how='outer')\n",
    "    student_reassess_flags.rename(columns={'Reassess Flag': f'{year} {module}'},inplace=True)\n",
    "    student_dr_flags = student_dr_flags.join(df[['DR Flag']], how='outer')\n",
    "    student_dr_flags.rename(columns={'DR Flag': f'{year} {module}'},inplace=True)\n",
    "    \n",
    "student_attempts = student_attempts.reindex(sorted(student_attempts.columns), axis=1)#sort by year"
   ]
  },
  {
   "cell_type": "code",
   "execution_count": null,
   "metadata": {},
   "outputs": [],
   "source": [
    "student_zipped = pd.DataFrame(index = student_attempts.index, columns = student_attempts.columns)\n",
    "for index in student_attempts.index:\n",
    "    for column in student_attempts.columns:\n",
    "        if student_marks.at[index, column] == np.NaN:\n",
    "            student_zipped.at[index, column] = str(student_reassess_flags.at[index, column]) \\\n",
    "                                            + ' ' + str(student_dr_flags.at[index, column]) \\\n",
    "                                            + ' ' + str(student_attempts.at[index,column]) \\\n",
    "                                            + ' ' + 'nan' + ' ' + str(student_grades.at[index,column])\n",
    "        else:\n",
    "            student_zipped.at[index, column] = str(student_reassess_flags.at[index, column]) \\\n",
    "                                            + ' ' + str(student_dr_flags.at[index, column]) \\\n",
    "                                            + ' ' + str(student_attempts.at[index,column]) \\\n",
    "                                            + ' ' + str(student_marks.at[index,column]) \\\n",
    "                                            + ' ' + str(student_grades.at[index,column])"
   ]
  },
  {
   "cell_type": "code",
   "execution_count": null,
   "metadata": {},
   "outputs": [],
   "source": [
    "student_zipped.head()"
   ]
  },
  {
   "cell_type": "code",
   "execution_count": null,
   "metadata": {},
   "outputs": [],
   "source": [
    "student_zipped = student_zipped.replace('nan nan nan nan nan', np.NaN)\n",
    "\n",
    "records = {}\n",
    "\n",
    "for index, row in student_zipped.iterrows():\n",
    "    courses_on_record = row.dropna().index.tolist()\n",
    "    results = row.dropna().values.tolist()\n",
    "    records[index] = list(zip(courses_on_record,results))\n",
    "\n",
    "RECORDS = {}\n",
    "for SPRcode, record in records.items():\n",
    "    new_list = []\n",
    "    for (course, result) in record:\n",
    "        new_list.append(course + ' ' + result)\n",
    "    RECORDS[SPRcode] = new_list\n",
    "    \n",
    "len(RECORDS)"
   ]
  },
  {
   "cell_type": "code",
   "execution_count": null,
   "metadata": {},
   "outputs": [],
   "source": [
    "student_zipped.head()"
   ]
  },
  {
   "cell_type": "code",
   "execution_count": null,
   "metadata": {},
   "outputs": [],
   "source": [
    "RECORDS"
   ]
  },
  {
   "cell_type": "code",
   "execution_count": null,
   "metadata": {},
   "outputs": [],
   "source": [
    "# make dictionaries about student variables for inputting into a future 'STUDENTS' table (clean this up too)\n",
    "year_entered = {}\n",
    "graduated_year = {}\n",
    "status_now = {}\n",
    "STUDENTS = pd.DataFrame(columns=['Entire Record',\n",
    "                                 'CONAD History','CONTRACT History', 'LSM History', 'TORT History', \n",
    "                                 'LAND History', 'CRIMINAL History','EQUITY History', 'EU History', \n",
    "                                 'LT1 History', 'LT2 History', 'CONAD Attempts', 'CONTRACT Attempts',\n",
    "                                'LSM Attempts', 'TORT Attempts', 'LAND Attempts', 'CRIMINAL Attempts',\n",
    "                                'EQUITY Attempts', 'EU Attempts', 'LT1 Attempts', 'LT2 Attempts'])\n",
    "\n",
    "list_years = ['201112','201213','201314','201415','201516', '201617','201718']\n",
    "for SPRcode, list_records in RECORDS.items(): # for all students...\n",
    "    try:\n",
    "        first_year = list_records[0].split()[0]\n",
    "        last_year = list_records[-1].split()[0]\n",
    "        # fill in entire record column\n",
    "        STUDENTS.at[SPRcode, 'Entire Record'] = list_records\n",
    "        # if left prematurely -> does not include any students that left after 2018\n",
    "        if not any([(record.split()[0] == '201718') for record in list_records]):\n",
    "            if not any([record.split()[1] == 'LT2' for record in list_records]):     \n",
    "                left_prematurely_year_courses = []\n",
    "                for record in list_records:\n",
    "                    if record.split()[0] == last_year:\n",
    "                        left_prematurely_year_courses.append((record.split()[1] + ' ' + record.split()[2]\n",
    "                                                              + ' ' + record.split()[3] + ' ' + record.split()[4]\n",
    "                                                              + ' ' + record.split()[5] + ' ' + record.split()[6]))\n",
    "                # record last year and courses taken that year\n",
    "#                 year_left_prematurely[SPRcode] = last_year\n",
    "#                 courses_prior_to_leaving_prematurely[SPRcode] = left_prematurely_year_courses\n",
    "                status_now[SPRcode] = 'Left prematurely'\n",
    "        # if graduauted\n",
    "        if any([((record.split()[1] == 'LT2') & (record.split()[-1] == 'P')) for record in list_records]):\n",
    "            if any([((record.split()[1] == 'LT1') & (record.split()[-1] == 'P')) for record in list_records]):\n",
    "                if any([((record.split()[1] == 'EU') & (record.split()[-1] == 'P')) for record in list_records]):\n",
    "                    graduated_year[SPRcode] = last_year\n",
    "                    status_now[SPRcode] = 'Graduated'\n",
    "        # determine current status (progressing or not progressing) if not graduated or left\n",
    "        if SPRcode not in status_now.keys():\n",
    "            # determine if all courses passed for 201718\n",
    "            if any([((record.split()[0] == '201718') & (record.split()[-1] == 'F')) for record in list_records]):\n",
    "                status_now[SPRcode] = 'Not progressing'\n",
    "            elif any([(record.split()[0] =='201718') for record in list_records]):\n",
    "                status_now[SPRcode] = 'Progressing'\n",
    "        # determine year entered if possible\n",
    "        for year in list_years[1:]:\n",
    "            if first_year == year:\n",
    "                if any([f'{year} CONAD' in record for record in list_records]):\n",
    "                    if any([f'{year} CONTRACT' in record for record in list_records]):\n",
    "                        year_entered[SPRcode] = year\n",
    "        if (first_year == '201112') & (SPRcode not in mod_files_2010[module].index):\n",
    "            if any([f'{first_year} CONAD' in record for record in list_records]):\n",
    "                if any([f'{first_year} CONTRACT' in record for record in list_records]):\n",
    "                    year_entered[SPRcode] = first_year          \n",
    "    except:\n",
    "        print(SPRcode, list_records)\n",
    "        \n",
    "# find the PT/FT status of each student (clean this up or make function above)\n",
    "student_pt_ft_statuses = pd.DataFrame()\n",
    "\n",
    "for dfname, df in module_files.items():\n",
    "    year, module, tmp = dfname.split('_')\n",
    "    student_pt_ft_statuses = (student_pt_ft_statuses.join(df[['Programme']], how='outer'))\n",
    "    student_pt_ft_statuses.rename(columns={'Programme': f'{year} {module}'}, inplace=True)\n",
    "\n",
    "student_pt_ft_statuses = student_pt_ft_statuses.reindex(sorted(student_pt_ft_statuses.columns), axis=1)#sorted by year\n",
    "\n",
    "records = {}\n",
    "for index, row in student_pt_ft_statuses.iterrows():\n",
    "    courses_on_record = row.dropna().index.tolist()\n",
    "    programmes_listed = row.dropna().values.tolist()\n",
    "    records[index] = list(zip(courses_on_record,programmes_listed))\n",
    "    \n",
    "changed_programme = {}\n",
    "programmes = {}\n",
    "for SPRcode, record in records.items():\n",
    "    first_programme = record[0][1]\n",
    "    for (course, programme) in record:\n",
    "        if programme != first_programme:\n",
    "            changed_programme[SPRcode] = record\n",
    "    if SPRcode in changed_programme:\n",
    "        programmes[SPRcode] = 'Changed'\n",
    "    else:\n",
    "        if 'part' in first_programme:\n",
    "            programmes[SPRcode] = 'PT'\n",
    "        elif 'full' in first_programme:\n",
    "            programmes[SPRcode] = 'FT'  \n",
    "        elif '6' in first_programme:\n",
    "            programmes[SPRcode] = '6YR'"
   ]
  },
  {
   "cell_type": "code",
   "execution_count": null,
   "metadata": {
    "scrolled": false
   },
   "outputs": [],
   "source": [
    "# Make STUDENTS dataframe\n",
    "STUDENTS['Programme'] = pd.Series(programmes)\n",
    "STUDENTS['Year started'] = pd.Series(year_entered)\n",
    "STUDENTS['Current status'] = pd.Series(status_now)\n",
    "STUDENTS['Graduated year'] = pd.Series(graduated_year)\n",
    "# STUDENTS['Year left prematurely'] = pd.Series(year_left_prematurely)\n",
    "# STUDENTS['Courses prior to leaving prematurely'] = pd.Series(courses_prior_to_leaving_prematurely)\n",
    "cols = ['Programme','Year started', 'Current status', 'Graduated year', 'Entire Record', \n",
    "        'LSM History', 'CONTRACT History', 'CONAD History','TORT History',  'CRIMINAL History', 'LAND History',\n",
    "       'EQUITY History', 'EU History', 'LT1 History', 'LT2 History', 'LSM Attempts', 'CONTRACT Attempts',\n",
    "                                 'CONAD Attempts', 'TORT Attempts', 'CRIMINAL Attempts', 'LAND Attempts',\n",
    "                                'EQUITY Attempts', 'EU Attempts', 'LT1 Attempts', 'LT2 Attempts']\n",
    "STUDENTS = STUDENTS[cols]"
   ]
  },
  {
   "cell_type": "code",
   "execution_count": null,
   "metadata": {},
   "outputs": [],
   "source": [
    "# check that all \n",
    "any(STUDENTS['Entire Record'].isnull())"
   ]
  },
  {
   "cell_type": "code",
   "execution_count": null,
   "metadata": {},
   "outputs": [],
   "source": [
    "# determine the last time that the course shows up, and the attempt number of that time \n",
    "# also could count the number of attempts myself\n",
    "for name in ['CONAD History','CONTRACT History', 'LSM History', 'TORT History', \n",
    "            'LAND History', 'CRIMINAL History','EQUITY History', 'EU History', \n",
    "            'LT1 History', 'LT2 History']:\n",
    "    STUDENTS[name] = np.empty((len(STUDENTS),0)).tolist()\n",
    "\n",
    "def record_history(row):\n",
    "    for record in row['Entire Record']:\n",
    "        print(record)\n",
    "        year, course, reassess_flag, dr_flag, attemptnum, mark, result = record.split()\n",
    "        row[f'{course} History'].append(record)\n",
    "\n",
    "STUDENTS[STUDENTS['Year started'].notnull()].apply(record_history, axis=1);"
   ]
  },
  {
   "cell_type": "code",
   "execution_count": null,
   "metadata": {},
   "outputs": [],
   "source": [
    "# this is what I need to fix -> how to make parse dr and fr attempts properly \n",
    "# and also catch where the administration didn't \n",
    "\n",
    "for name in ['LSM Attempts','CONTRACT Attempts','CONAD Attempts', 'TORT Attempts', \n",
    "        'CRIMINAL Attempts','LAND Attempts', 'EQUITY Attempts', 'EU Attempts', \n",
    "        'LT1 Attempts', 'LT2 Attempts']:\n",
    "    STUDENTS[name] = np.empty((len(STUDENTS),0)).tolist()\n",
    "\n",
    "for course in ['CONAD','CONTRACT','LSM','TORT','EQUITY','LAND','CRIMINAL','EU','LT1','LT2']:\n",
    "    for index, row in STUDENTS.iterrows():\n",
    "        for record in row[f'{course} History']:\n",
    "            year, course, reassess_flag, dr_flag, attemptnum, mark, result = record.split()\n",
    "            next_year = year.split('_')[0][:2] + \\\n",
    "                        str(int(year.split('_')[0][2:4]) + 1) + \\\n",
    "                        str(int(year.split('_')[0][4:]) + 1)\n",
    "            previous_year = year.split('_')[0][:2] + \\\n",
    "                        str(int(year.split('_')[0][2:4]) - 1) + \\\n",
    "                        str(int(year.split('_')[0][4:]) - 1)\n",
    "            if index not in mod_files_2010[module].index: \n",
    "                # only calculating the attempt nums \n",
    "                # for students that entered 2011 or later\n",
    "                attemptnum = int(float(attemptnum)) #2\n",
    "                if any(row[f'{course} Attempts']): # any attempts already for this course and student id\n",
    "                    if type(row[f'{course} Attempts'][-1][-1]) == list:  # if there were multiple previous attempts\n",
    "                        most_recent_previous_attempt = float(row[f'{course} Attempts'][-1][-1][-1])\n",
    "                    else: # if there was a single previous attempt   \n",
    "                        most_recent_previous_attempt = float(row[f'{course} Attempts'][-1][-1])\n",
    "                    attempt_diff = int(float(attemptnum) - most_recent_previous_attempt)\n",
    "                        #subtract the most recent previous attempt\n",
    "                    if attempt_diff == 0:\n",
    "                        previous_year_name = previous_year + '_' + module + '_' + 'assessment'\n",
    "                        try:\n",
    "                            previous_year_result = module_files[previous_year_name].at[index,'Result']\n",
    "                        except:\n",
    "                            previous_year_result = np.NaN\n",
    "                        if previous_year_result == 'D':\n",
    "                            if attemptnum == 1:\n",
    "                                attemptnum = int(most_recent_previous_attempt)\n",
    "                            elif (reassess_flag == 'True'): \n",
    "                                # could add 2 or 3 attempts here, depending whether there is a third assessment the following year\n",
    "                                attemptnum = int(most_recent_previous_attempt) + attemptnum\n",
    "                        else: # catch where attemptnum doesn't increment\n",
    "                            attemptnum = int(most_recent_previous_attempt) + attemptnum\n",
    "                else: # if no previous attempts recorded\n",
    "                    attempt_diff = int(float(attemptnum)) \n",
    "                if dr_flag == 'True': # student supposed to have had one official attempt that year, but sometimes this doesn't happen \n",
    "                    if (attempt_diff == 3): # admin counted DR as an attempt\n",
    "                        row[f'{course} Attempts'].append((year, ['' ,''], [attemptnum-2, attemptnum-1]))\n",
    "                        row[f'{course} Attempts'].append((next_year, result, attemptnum))\n",
    "                    elif (attempt_diff == 2):\n",
    "                        row[f'{course} Attempts'].append((year, ['', result], [attemptnum-1, attemptnum]))\n",
    "                    else:\n",
    "                        #the DR was not counted by admin but had an effect that should be recorded\n",
    "                        row[f'{course} Attempts'].append((year, ['', result], [attemptnum, attemptnum]))\n",
    "                elif (reassess_flag == 'True'): # if attempt that year included an FR\n",
    "                    if (attempt_diff == 3): # if the difference between the previous attempt and this one is 3\n",
    "                        # there is an attempt and a reassessment that year\n",
    "                        # and another reassessment the next year that isn't recorded there      \n",
    "                        row[f'{course} Attempts'].append((year, ['', ''], [attemptnum-2, attemptnum-1]))\n",
    "                        row[f'{course} Attempts'].append((next_year, result, attemptnum))\n",
    "                    elif (attempt_diff == 2):\n",
    "                        row[f'{course} Attempts'].append((year, ['', result], [attemptnum-1, attemptnum]))\n",
    "                    elif (attempt_diff == 1):\n",
    "                        print('attempt_diff error', index, record, '*', row[f'{course} History'])\n",
    "                        row[f'{course} Attempts'].append((year, result, attemptnum+1))\n",
    "                else:\n",
    "                    row[f'{course} Attempts'].append((year, result, attemptnum))\n",
    "            else:\n",
    "                row[f'{course} Attempts'] = []"
   ]
  },
  {
   "cell_type": "code",
   "execution_count": null,
   "metadata": {},
   "outputs": [],
   "source": [
    "year, result, attemptnum"
   ]
  },
  {
   "cell_type": "code",
   "execution_count": null,
   "metadata": {},
   "outputs": [],
   "source": [
    "# STUDENTS.drop(labels=['Year 1 Courses', 'Year 2 Courses', \n",
    "#         'Year 3 Courses', 'Year 4 Courses', 'Year 5 Courses', 'Year 6 Courses'], axis=1, inplace=True)"
   ]
  },
  {
   "cell_type": "code",
   "execution_count": null,
   "metadata": {},
   "outputs": [],
   "source": [
    "STUDENTS.to_excel(\"/Users/Kate/Desktop/Vicky project/data/STUDENTS.xls\")"
   ]
  },
  {
   "cell_type": "code",
   "execution_count": null,
   "metadata": {},
   "outputs": [],
   "source": [
    "STUDENTS['Programme'].value_counts()"
   ]
  },
  {
   "cell_type": "code",
   "execution_count": null,
   "metadata": {},
   "outputs": [],
   "source": [
    "# Calculate metrics and create visualizations\n",
    "\n",
    "# what proportion of students graduated within 6 years (PT) or 5 years (FT) for students starting in 2011, 2012, 2013?\n",
    "# write function or loop to analyze each programme by year entered (2 by 3)\n",
    "\n",
    "years_entered = pd.Index(['2011', '2012'])\n",
    "programmes = pd.Index(['FT', 'PT'])\n",
    "\n",
    "graduation_rate_df = pd.DataFrame(index=programmes, columns=years_entered) \n",
    "\n",
    "for programme in programmes.tolist():\n",
    "    for year in years_entered.tolist():\n",
    "        if programme == 'PT':\n",
    "            cutoff = int(year) + 6\n",
    "        elif programme == 'FT':\n",
    "            cutoff = int(year) + 5\n",
    "        selection_total_students = STUDENTS['Year started'].str.contains(year).fillna(False) \\\n",
    "                                    & (STUDENTS['Programme'] == programme)\n",
    "        selection_graduated_students = (selection_total_students \n",
    "                                        & (STUDENTS.loc[STUDENTS['Graduated year'].notnull(), 'Graduated year']\n",
    "                                           .apply(lambda x: x[:2] + x[-2:])\n",
    "                                           .astype('int') \n",
    "                                           <= cutoff))\n",
    "        graduation_rate_df.at[programme, year] = (len(STUDENTS[selection_graduated_students]) \n",
    "                                                  / len(STUDENTS[selection_total_students]))\n",
    "graduation_rate_df"
   ]
  },
  {
   "cell_type": "code",
   "execution_count": null,
   "metadata": {},
   "outputs": [],
   "source": [
    "# what proportion of students graduated within 6 years (PT) or 5 years (FT) for students starting in 2011, 2012, 2013?\n",
    "# write function or loop to analyze each programme by year entered (2 by 3)\n",
    "\n",
    "###############################################################################\n",
    "'''\n",
    "this isn't quite right, because the 3rd attempts are actually the following year\n",
    "'''\n",
    "###############################################################################\n",
    "\n",
    "print('Leaving early rate: ')\n",
    "years_entered = pd.Index(['2011', '2012'])\n",
    "programmes = pd.Index(['FT', 'PT'])\n",
    "\n",
    "leaving_rate_df = pd.DataFrame(index=programmes, columns=years_entered)\n",
    "\n",
    "for programme in programmes.tolist():\n",
    "    for year in years_entered.tolist():\n",
    "        if programme == 'PT':\n",
    "            cutoff = int(year) + 6\n",
    "        elif programme == 'FT':\n",
    "            cutoff = int(year) + 5\n",
    "        selection_total_students = STUDENTS['Year started'].str.contains(year).fillna(False) \\\n",
    "                                    & (STUDENTS['Programme'] == programme)\n",
    "        selection_left_students = (selection_total_students \n",
    "                                        & (STUDENTS.loc[STUDENTS['Year left prematurely'].notnull(), 'Year left prematurely']\n",
    "                                           .apply(lambda x: x[:2] + x[-2:])\n",
    "                                           .astype('int') \n",
    "                                           <= cutoff))\n",
    "        leaving_rate_df.at[programme, year] = (len(STUDENTS[selection_left_students]) \n",
    "                                                  / len(STUDENTS[selection_total_students]))\n",
    "leaving_rate_df"
   ]
  },
  {
   "cell_type": "code",
   "execution_count": null,
   "metadata": {},
   "outputs": [],
   "source": [
    "# calculate time to leaving\n",
    "###############################################################################\n",
    "'''\n",
    "this isn't quite right, because the 3rd attempts are actually the following year\n",
    "'''\n",
    "###############################################################################\n",
    "print('Time spent before leaving early: ')\n",
    "for programme in programmes.tolist():\n",
    "    df = (STUDENTS.loc[(STUDENTS['Year left prematurely'].notnull() \n",
    "                        & (STUDENTS['Programme'] == programme)), 'Year left prematurely']\n",
    "                  .apply(lambda x: x[:2] + x[-2:])\n",
    "                  .astype('int') \n",
    "        - STUDENTS.loc[(STUDENTS['Year started'].notnull() \n",
    "                        & (STUDENTS['Programme'] == programme)), 'Year started']\n",
    "          .apply(lambda x: x[:4])\n",
    "          .astype('int'))\n",
    "    time = df.mean()\n",
    "    print(programme, time)\n"
   ]
  },
  {
   "cell_type": "code",
   "execution_count": null,
   "metadata": {},
   "outputs": [],
   "source": [
    "# calculate time to completion\n",
    "print('Time to completion: ')\n",
    "for programme in programmes.tolist():\n",
    "    df = (STUDENTS.loc[(STUDENTS['Graduated year'].notnull() & (STUDENTS['Programme'] == programme)), 'Graduated year']\n",
    "                  .apply(lambda x: x[:2] + x[-2:])\n",
    "                  .astype('int') \n",
    "        - STUDENTS.loc[(STUDENTS['Year started'].notnull() & (STUDENTS['Programme'] == programme)), 'Year started']\n",
    "          .apply(lambda x: x[:4])\n",
    "          .astype('int'))\n",
    "    time = df.mean()\n",
    "    print(programme, time)"
   ]
  },
  {
   "cell_type": "code",
   "execution_count": null,
   "metadata": {},
   "outputs": [],
   "source": [
    "for dfname, df in module_files.items():\n",
    "    module_files[dfname]['Real Attempt Number(s)'] = np.empty((len(df),0)).tolist()\n",
    "\n",
    "for course in ['CONAD','CONTRACT','LSM','TORT','EQUITY','LAND','CRIMINAL','EU','LT1','LT2']:\n",
    "    for index, row in STUDENTS.iterrows():\n",
    "        if any(row[f'{course} Attempts']):\n",
    "            for record in row[f'{course} Attempts']:\n",
    "                year = record[0]\n",
    "                if year == '201819':\n",
    "                    print(index + ' year 201819')\n",
    "                    pass\n",
    "                else:\n",
    "                    attempts_that_year = record[-1]\n",
    "                    module_files[f'{year}_{course}_assessment'].at[index,'Real Attempt Number(s)'] = attempts_that_year\n",
    "                    # real attempt number is either empty list, integer, or list\n",
    "                    # let's replace the empty lists with np.NaN\n",
    "\n",
    "for dfname, df in module_files.items():\n",
    "    for index, row in df.iterrows(): \n",
    "        if type(row['Real Attempt Number(s)']) == list:\n",
    "            if not any(row['Real Attempt Number(s)']):\n",
    "                module_files[dfname].at[index, 'Real Attempt Number(s)'] = np.NaN\n",
    "                \n",
    "dfname"
   ]
  },
  {
   "cell_type": "code",
   "execution_count": null,
   "metadata": {},
   "outputs": [],
   "source": [
    "module_files[f'{year}_{course}_assessment'].to_excel(\"/Users/Kate/Desktop/Vicky project/data/example_moduledf.xls\")"
   ]
  },
  {
   "cell_type": "code",
   "execution_count": null,
   "metadata": {},
   "outputs": [],
   "source": [
    "year = '201314'\n",
    "course = 'CONTRACT'\n",
    "module_files[f'{year}_{course}_assessment'].sort_index()"
   ]
  },
  {
   "cell_type": "code",
   "execution_count": null,
   "metadata": {},
   "outputs": [],
   "source": [
    "module_files[f'{year}_{course}_assessment'].columns"
   ]
  },
  {
   "cell_type": "code",
   "execution_count": null,
   "metadata": {},
   "outputs": [],
   "source": [
    "assignment_numbers = {}\n",
    "for dfname, df in module_files.items():\n",
    "    assignment_numbers[dfname] = df.columns[-4].split()[1]\n",
    "max_num_assignments = int(max(assignment_numbers.values())) #2\n",
    "assignment_numbers;"
   ]
  },
  {
   "cell_type": "code",
   "execution_count": null,
   "metadata": {},
   "outputs": [],
   "source": [
    "ATTEMPTS = {}\n",
    "tuples = []\n",
    "for index in STUDENTS.index:\n",
    "    for course in  ['CONAD', 'CONTRACT', 'LSM', 'TORT', 'LAND', 'CRIMINAL', 'EQUITY', 'EU', 'LT1', 'LT2']:\n",
    "        tuples.append((index,course))\n",
    "\n",
    "index = pd.MultiIndex.from_tuples(tuples, names=['SPRcode', 'Module'])\n",
    "        \n",
    "for attempt in ['first', 'second', 'third', 'fourth', 'fifth']:\n",
    "    ATTEMPTS[f'{attempt}'] = pd.DataFrame(index=index, columns = ['Student Programme','Student Final Status',\n",
    "                                                    'Year of Attempt', 'Attempt Type', 'Module Mark', \n",
    "                                                     'Module Grade', 'Module Result'])\n",
    "\n",
    "first_counter = 0\n",
    "for dfname, df in module_files.items():\n",
    "    year, module, tmp = dfname.split('_') \n",
    "    for index, row in df.iterrows():\n",
    "        previous_year_name = year.split('_')[0][:2] + \\\n",
    "                        str(int(year.split('_')[0][2:4]) - 1) + \\\n",
    "                        str(int(year.split('_')[0][4:]) - 1) + '_' + module + '_' + 'assessment'\n",
    "        next_year_name = year.split('_')[0][:2] + \\\n",
    "                        str(int(year.split('_')[0][2:4]) + 1) + \\\n",
    "                        str(int(year.split('_')[0][4:]) + 1) + '_' + module + '_' + 'assessment'\n",
    "        try:\n",
    "            previous_year_result = module_files[previous_year_name].at[index,'Result']\n",
    "        except:\n",
    "            previous_year_result = np.NaN \n",
    "        try:\n",
    "            if index in module_files[next_year_name].index:\n",
    "                if type(module_files[next_year_name].at[index,'Result']) != str:\n",
    "                    # this year is a reassessment that was failed\n",
    "                    second_reassessment_flag = True #worked for '0033fc70-2eb9-45f0-990e-d514bab75508'&'201112_CONAD_assessment'\n",
    "                else:\n",
    "                    second_reassessment_flag = False\n",
    "            else:\n",
    "                second_reassessment_flag = False             \n",
    "        except:\n",
    "            second_reassessment_flag = False # False -> took except route\n",
    "\n",
    "        ####type(row['Result']) # str\n",
    "\n",
    "        ####################################################################\n",
    "        if (type(row['Result']) == str): \n",
    "            # if this isn't the second reassessment (which is recorded independently)\n",
    "            primary_row = pd.Series()\n",
    "            primary_row['Student Programme'] = STUDENTS.at[index,'Programme'] # PT\n",
    "            primary_row['Student Final Status'] = STUDENTS.at[index, 'Current status'] # not progressing\n",
    "            primary_row['Year of Attempt'] = year # 201718\n",
    "            ####################################################################\n",
    "             # if a reassessment\n",
    "            ####################################################################\n",
    "            if (row['Reassess Flag'] == True) | (row['DR Flag'] == True): # if the year includes a reassessment \n",
    "                if second_reassessment_flag == False:\n",
    "                    reassessment_row = primary_row.copy() # otherwise will overwrite primary_row!!!\n",
    "                    reassessment_row['Module Grade'] = row['Grade']\n",
    "                    reassessment_row['Module Result'] = row['Result'] \n",
    "                    if any(df.columns == 'Mark'):\n",
    "                        reassessment_row['Module Mark'] = row['Mark']\n",
    "                    else:\n",
    "                        reassessment_row['Module Mark'] = np.NaN\n",
    "                    if row['DR Flag'] == True:\n",
    "                        reassessment_row['Attempt Type'] = 'DR Reassessment'\n",
    "                    else:\n",
    "                        reassessment_row['Attempt Type'] = 'FR Reassessment'\n",
    "                    try:\n",
    "                        if type(row['Real Attempt Number(s)']) == list:\n",
    "                            reassessment_attempt_num = row['Real Attempt Number(s)'][-1]\n",
    "                        else:\n",
    "                            first_attempt_that_year = row['Real Attempt Number(s)']\n",
    "                        if reassessment_attempt_num == 1: # DR reassessment\n",
    "                            ATTEMPTS['second'].loc[(index, module)] = reassessment_row\n",
    "                        if reassessment_attempt_num == 2:\n",
    "                            ATTEMPTS['second'].loc[(index, module)] = reassessment_row \n",
    "                        if reassessment_attempt_num == 3:\n",
    "                            ATTEMPTS['third'].loc[(index,module)] = reassessment_row\n",
    "                        if reassessment_attempt_num == 4:\n",
    "                            ATTEMPTS['fourth'].loc[(index,module)] = reassessment_row\n",
    "                        if reassessment_attempt_num == 5:\n",
    "                            ATTEMPTS['fifth'].loc[(index,module)] = reassessment_row\n",
    "                    except:\n",
    "                        # if there is no attempt number (ie started before 2011), then we don't care to write it anyway\n",
    "                        if type(STUDENTS.at[index,'Year started']) == str:\n",
    "                            print(STUDENTS.at[index,'Year started'],'no attempt number', index, module, year)\n",
    "                        pass\n",
    "                elif second_reassessment_flag == True:\n",
    "                    # will need to make a row each to put in first reassessment and second reassessment\n",
    "                    first_reassessment_row = primary_row.copy() # do not overwrite primary_row\n",
    "                    second_reassessment_row = primary_row.copy() # do not overwrite primary_row or first_assessment_row\n",
    "                    first_reassessment_row['Module Grade'] = np.NaN\n",
    "                    second_reassessment_row['Module Grade'] = row['Grade'] \n",
    "                    first_reassessment_row['Module Result'] = 'F calc?'\n",
    "                    second_reassessment_row['Module Result'] = row['Result'] \n",
    "                    first_reassessment_row['Module Mark'] = np.NaN\n",
    "                    if any(df.columns == 'Mark'):\n",
    "                        second_reassessment_row['Module Mark'] = row['Mark']\n",
    "                    else:\n",
    "                        second_reassessment_row['Module Mark'] = np.NaN\n",
    "                    if (row['DR Flag'] == True):\n",
    "                        first_reassessment_row['Attempt Type'] = 'DR Reassessment'\n",
    "                    else:\n",
    "                        first_reassessment_row['Attempt Type'] = 'FR Reassessment'\n",
    "                    second_reassessment_row['Attempt Type'] = 'Reassessment Following Year'\n",
    "                    if type(row['Real Attempt Number(s)']) == list:\n",
    "                        first_reassessment_attempt_num = row['Real Attempt Number(s)'][-1]\n",
    "                    else:\n",
    "                        first_reassessment_attempt_num = row['Real Attempt Number(s)']\n",
    "                    if first_reassessment_attempt_num == 1:\n",
    "                        print('error with attemptnum = 1 after reassessment',index, module, year)\n",
    "                    if first_reassessment_attempt_num == 2:\n",
    "                        ATTEMPTS['second'].loc[(index, module)] = first_reassessment_row\n",
    "                        ATTEMPTS['third'].loc[(index, module)] = second_reassessment_row\n",
    "                    if first_reassessment_attempt_num == 3:\n",
    "                        ATTEMPTS['third'].loc[(index,module)] = first_reassessment_row\n",
    "                        ATTEMPTS['fourth'].loc[(index, module)] = second_reassessment_row\n",
    "                    if first_reassessment_attempt_num == 4:\n",
    "                        ATTEMPTS['fourth'].loc[(index,module)] = first_reassessment_row\n",
    "                        ATTEMPTS['fifth'].loc[(index, module)] = second_reassessment_row\n",
    "                    if first_reassessment_attempt_num == 5:\n",
    "                        ATTEMPTS['fifth'].loc[(index,module)] = first_reassessment_row\n",
    "                    ####################################################################\n",
    "                    # put primary rows in correct attempt dfs\n",
    "                    ####################################################################\n",
    "                if not ((pd.to_numeric(year,errors='coerce') > 201314) & (module =='LSM')): #needs testing\n",
    "                    try:\n",
    "                        if (int(df.columns[-4].split()[1]) == 2): # num assignments\n",
    "                            primary_row['Module Mark'] = float((pd.to_numeric(row['Assessment 1 Weight']) \n",
    "                                                                * pd.to_numeric(row['Assessment 1 Mark']))\n",
    "                                                               + (pd.to_numeric(row['Assessment 2 Weight']) \n",
    "                                                                * pd.to_numeric(row['Assessment 2 Mark'])))\n",
    "                        else:\n",
    "                            primary_row['Module Mark'] = row['Assessment 1 Mark']\n",
    "                        if int(float(pd.to_numeric(primary_row['Module Mark']))) >= 40.0:\n",
    "                            primary_row['Module Grade'] = 'P calc'\n",
    "                            primary_row['Module Result'] = 'P calc'\n",
    "                        else:\n",
    "                            primary_row['Module Grade'] = 'F calc'\n",
    "                            primary_row['Module Result'] = 'F calc'    \n",
    "                    except:\n",
    "                        print('error in calculating mark',index, module, year, row['Assessment 1 Mark'])\n",
    "                        # this is a reassessment that is taking the full year\n",
    "                        # perhaps is being recorded below\n",
    "                else: # course is LSM and both assignments must be passed to pass\n",
    "                    primary_row['Module Mark'] = np.NaN\n",
    "                    if ((df.at[index,'Assessment 1 Grade'] in ['P','LP']) & (\n",
    "                        df.at[index,'Assessment 2 Grade'] in ['P','LP'])):\n",
    "                        primary_row['Module Grade'] = 'P calc'\n",
    "                        primary_row['Module Result'] = 'P calc'\n",
    "                    else:\n",
    "                        primary_row['Module Grade'] = 'F calc'\n",
    "                        primary_row['Module Result'] = 'F calc'\n",
    "            ####################################################################\n",
    "             # if no reassessment\n",
    "            ####################################################################\n",
    "            else: # no reassessment that year\n",
    "                primary_row['Module Grade'] = row['Grade']\n",
    "                primary_row['Module Result'] = row['Result'] \n",
    "                if any(df.columns == 'Mark'):\n",
    "                    primary_row['Module Mark'] = row['Mark']\n",
    "                else:\n",
    "                    primary_row['Module Mark'] = np.NaN\n",
    "\n",
    "            ####################################################################\n",
    "             # store the first primary row\n",
    "            ####################################################################\n",
    "            if type(row['Real Attempt Number(s)']) == list:\n",
    "                first_attempt_that_year = row['Real Attempt Number(s)'][0]\n",
    "            else:\n",
    "                first_attempt_that_year = row['Real Attempt Number(s)']\n",
    "            if (first_attempt_that_year == 1): # initial assessment\n",
    "                first_counter +=1\n",
    "                if previous_year_result != 'D':\n",
    "                    primary_row['Attempt Type'] = 'Initial Assessment'\n",
    "                    ATTEMPTS['first'].loc[(index, module)] = primary_row\n",
    "                else:\n",
    "                    primary_row['Attempt Type'] = 'DR Retake'\n",
    "                    ATTEMPTS['second'].loc[(index, module)] = primary_row\n",
    "            else:# make retake\n",
    "                retake_attempt_num = first_attempt_that_year\n",
    "                primary_row['Attempt Type'] = 'Retake'\n",
    "                if retake_attempt_num == 2:\n",
    "                    if previous_year_result != 'D':\n",
    "                        ATTEMPTS['second'].loc[(index, module)] = primary_row\n",
    "                    else:\n",
    "                        primary_row['Attempt Type'] = 'DR Retake'\n",
    "                        ATTEMPTS['third'].loc[(index, module)] = primary_row\n",
    "                elif retake_attempt_num == 3:\n",
    "                    if previous_year_result != 'D':\n",
    "                        ATTEMPTS['third'].loc[(index,module)] = primary_row\n",
    "                    else:\n",
    "                        primary_row['Attempt Type'] = 'DR Retake'\n",
    "                        ATTEMPTS['fourth'].loc[(index, module)] = primary_row     \n",
    "                elif retake_attempt_num == 4:\n",
    "                    if previous_year_result != 'D':\n",
    "                        ATTEMPTS['fourth'].loc[(index,module)] = primary_row\n",
    "                    else:\n",
    "                        primary_row['Attempt Type'] = 'DR Retake'\n",
    "                        ATTEMPTS['fifth'].loc[(index, module)] = primary_row\n",
    "                elif retake_attempt_num == 5:\n",
    "                    ATTEMPTS['fifth'].loc[(index,module)] = primary_row "
   ]
  },
  {
   "cell_type": "code",
   "execution_count": null,
   "metadata": {},
   "outputs": [],
   "source": [
    "first_counter"
   ]
  },
  {
   "cell_type": "code",
   "execution_count": null,
   "metadata": {},
   "outputs": [],
   "source": [
    "for attempt in ['first', 'second', 'third', 'fourth', 'fifth']:\n",
    "    ATTEMPTS[f'{attempt}'].dropna(how='all', inplace = True) \n",
    "    ATTEMPTS[f'{attempt}']['Module Mark'] = pd.to_numeric(ATTEMPTS[f'{attempt}']['Module Mark'])"
   ]
  },
  {
   "cell_type": "code",
   "execution_count": null,
   "metadata": {},
   "outputs": [],
   "source": [
    "ATTEMPTS['first']['Attempt Type'].value_counts(dropna=False)"
   ]
  },
  {
   "cell_type": "code",
   "execution_count": null,
   "metadata": {},
   "outputs": [],
   "source": [
    "first_attempts = ATTEMPTS['first'].copy()\n",
    "first_attempts.reset_index(inplace=True)\n",
    "first_attempts"
   ]
  },
  {
   "cell_type": "code",
   "execution_count": null,
   "metadata": {},
   "outputs": [],
   "source": [
    "ATTEMPTS['second']['Attempt Type'].value_counts(dropna=False)"
   ]
  },
  {
   "cell_type": "code",
   "execution_count": null,
   "metadata": {},
   "outputs": [],
   "source": [
    "second_attempts = ATTEMPTS['second'].copy()\n",
    "second_attempts"
   ]
  },
  {
   "cell_type": "code",
   "execution_count": null,
   "metadata": {},
   "outputs": [],
   "source": [
    "first_attempts.loc[first_attempts['Module Result'] == 'P calc']"
   ]
  },
  {
   "cell_type": "code",
   "execution_count": null,
   "metadata": {},
   "outputs": [],
   "source": [
    "tuples = first_attempts.loc[first_attempts['Module Result'] == 'P calc', ['SPRcode', 'Module']].apply(lambda x: (x['SPRcode'], x['Module']), axis=1).tolist()\n",
    "\n",
    "tuples\n"
   ]
  },
  {
   "cell_type": "code",
   "execution_count": null,
   "metadata": {},
   "outputs": [],
   "source": [
    "ATTEMPTS['second'].loc[tuples, :]"
   ]
  },
  {
   "cell_type": "code",
   "execution_count": null,
   "metadata": {},
   "outputs": [],
   "source": [
    "num_attempt_2_is_retake = len(second_attempts[second_attempts['Attempt Type'].str.contains('Retake')]) \n",
    "num_pass_attempt_2_when_retake = len(second_attempts[(second_attempts['Attempt Type'].str.contains('Retake') \n",
    "                                                & ((second_attempts['Module Result'] == 'P') \n",
    "                                                   | (second_attempts['Module Result'] == 'P calc')))])\n",
    "prop_pass_attempt_2_when_retake = num_pass_attempt_2_when_retake / num_attempt_2_is_retake\n",
    "prop_pass_attempt_2_when_retake"
   ]
  },
  {
   "cell_type": "code",
   "execution_count": null,
   "metadata": {},
   "outputs": [],
   "source": [
    "num_attempt_2_is_reassess = len(second_attempts[second_attempts['Attempt Type'].str.contains('FR Reassessment')]) # 1079\n",
    "num_pass_attempt_2_when_reassess = len(second_attempts[(second_attempts['Attempt Type'].str.contains('FR Reassessment')\n",
    "                                                      & ((second_attempts['Module Result'] == 'P') \n",
    "                                                       | (second_attempts['Module Result'] == 'P calc')))])\n",
    "prop_pass_attempt_2_when_reassess = num_pass_attempt_2_when_reassess / num_attempt_2_is_reassess\n",
    "prop_pass_attempt_2_when_reassess"
   ]
  },
  {
   "cell_type": "code",
   "execution_count": null,
   "metadata": {},
   "outputs": [],
   "source": [
    "# Make a df with each attempt pass rate as cell value, columns = years, rows = modules\n",
    "\n",
    "############### \n",
    "'''May want to add a condition that must have failed first attempt'''\n",
    "############\n",
    "second_attempts = ATTEMPTS['second'].copy()\n",
    "second_attempts.reset_index(inplace=True)\n",
    "\n",
    "modules = ['LSM', 'CONTRACT', 'CONAD']#, 'TORT', 'CRIMINAL', 'LAND', 'EQUITY', 'EU', 'LT1', 'LT2']\n",
    "years = sorted(second_attempts['Year of Attempt'].value_counts().index.tolist())\n",
    "\n",
    "second_attempts_reassess_pt_yrs = pd.DataFrame()\n",
    "second_attempts_reassess_ft_yrs = pd.DataFrame()\n",
    "second_attempts_retake_pt_yrs = pd.DataFrame()\n",
    "second_attempts_retake_ft_yrs = pd.DataFrame()\n",
    "\n",
    "\n",
    "for year in years:\n",
    "    for module in modules:\n",
    "        pt_reassess_selection_total = ((second_attempts['Student Programme'] == 'PT') \n",
    "                           & second_attempts['Attempt Type'].str.contains('FR Reassessment') \n",
    "                           & (second_attempts['Module'] == module)\n",
    "                           & (second_attempts['Year of Attempt'] == year))  \n",
    "        pt_reassess_selection_passed = (pt_reassess_selection_total & ((second_attempts['Module Result'] == 'P') \n",
    "                                              | (second_attempts['Module Result'] == 'P calc'))) \n",
    "        pt_retake_selection_total = ((second_attempts['Student Programme'] == 'PT') \n",
    "                           & second_attempts['Attempt Type'].str.contains('Retake') \n",
    "                           & (second_attempts['Module'] == module)\n",
    "                           & (second_attempts['Year of Attempt'] == year)) \n",
    "        pt_retake_selection_passed = (pt_retake_selection_total & ((second_attempts['Module Result'] == 'P') \n",
    "                                              | (second_attempts['Module Result'] == 'P calc')))\n",
    "        \n",
    "        ft_reassess_selection_total = ((second_attempts['Student Programme'] == 'FT') \n",
    "                           & second_attempts['Attempt Type'].str.contains('FR Reassessment') \n",
    "                           & (second_attempts['Module'] == module)\n",
    "                           & (second_attempts['Year of Attempt'] == year))  \n",
    "        ft_reassess_selection_passed = (ft_reassess_selection_total & ((second_attempts['Module Result'] == 'P') \n",
    "                                              | (second_attempts['Module Result'] == 'P calc'))) \n",
    "        ft_retake_selection_total = ((second_attempts['Student Programme'] == 'FT') \n",
    "                           & second_attempts['Attempt Type'].str.contains('Retake') \n",
    "                           & (second_attempts['Module'] == module)\n",
    "                           & (second_attempts['Year of Attempt'] == year)) \n",
    "        ft_retake_selection_passed = (ft_retake_selection_total & ((second_attempts['Module Result'] == 'P') \n",
    "                                              | (second_attempts['Module Result'] == 'P calc')))\n",
    "        \n",
    "        if (int(len(second_attempts[pt_reassess_selection_total])) != 0):\n",
    "            second_attempts_reassess_pt_yrs.at[module, year] = \\\n",
    "            len(second_attempts[pt_reassess_selection_passed])/len(second_attempts[pt_reassess_selection_total]) \n",
    "        \n",
    "        if (int(len(second_attempts[pt_retake_selection_total])) != 0):\n",
    "            second_attempts_retake_pt_yrs.at[module, year] = \\\n",
    "            len(second_attempts[pt_retake_selection_passed])/len(second_attempts[pt_retake_selection_total])\n",
    "            \n",
    "        if (int(len(second_attempts[ft_reassess_selection_total])) != 0):\n",
    "            second_attempts_reassess_ft_yrs.at[module, year] = \\\n",
    "            len(second_attempts[ft_reassess_selection_passed])/len(second_attempts[ft_reassess_selection_total]) \n",
    "        \n",
    "        if (int(len(second_attempts[ft_retake_selection_total])) != 0):\n",
    "            second_attempts_retake_ft_yrs.at[module, year] = \\\n",
    "            len(second_attempts[ft_retake_selection_passed])/len(second_attempts[ft_retake_selection_total])            "
   ]
  },
  {
   "cell_type": "code",
   "execution_count": null,
   "metadata": {},
   "outputs": [],
   "source": [
    "second_attempts_reassess_pt_yrs.mean()"
   ]
  },
  {
   "cell_type": "code",
   "execution_count": null,
   "metadata": {},
   "outputs": [],
   "source": [
    "second_attempts_retake_pt_yrs.mean()"
   ]
  },
  {
   "cell_type": "code",
   "execution_count": null,
   "metadata": {},
   "outputs": [],
   "source": [
    "second_attempts_reassess_ft_yrs"
   ]
  },
  {
   "cell_type": "code",
   "execution_count": null,
   "metadata": {},
   "outputs": [],
   "source": [
    "second_attempts_retake_ft_yrs"
   ]
  },
  {
   "cell_type": "code",
   "execution_count": null,
   "metadata": {},
   "outputs": [],
   "source": [
    "# Make a df with each attempt pass rate as cell value, columns = years, rows = modules\n",
    "\n",
    "modules = ['LSM', 'CONTRACT', 'CONAD']#, 'TORT', 'CRIMINAL', 'LAND', 'EQUITY', 'EU', 'LT1', 'LT2']\n",
    "years = sorted(first_attempts['Year of Attempt'].value_counts().index.tolist())\n",
    "\n",
    "first_attempts_pt_yrs = pd.DataFrame()\n",
    "first_attempts_ft_yrs = pd.DataFrame()\n",
    "\n",
    "pt_selection_total = pd.DataFrame()\n",
    "ft_selection_total = pd.DataFrame()\n",
    "\n",
    "for year in years:\n",
    "    for module in modules:\n",
    "        pt_selection_total[year] = ((first_attempts['Student Programme'] == 'PT')  \n",
    "                           & (first_attempts['Module'] == module)\n",
    "                           & (first_attempts['Year of Attempt'] == year))  \n",
    "        pt_selection_passed = (pt_selection_total[year] & ((first_attempts['Module Result'] == 'P') \n",
    "                                              | (first_attempts['Module Result'] == 'P calc')))    \n",
    "        ft_selection_total[year] = ((first_attempts['Student Programme'] == 'FT') \n",
    "                           & (first_attempts['Module'] == module)\n",
    "                           & (first_attempts['Year of Attempt'] == year))  \n",
    "        ft_selection_passed = (ft_selection_total[year] & ((first_attempts['Module Result'] == 'P') \n",
    "                                              | (first_attempts['Module Result'] == 'P calc'))) \n",
    "           \n",
    "        if (int(len(first_attempts[pt_selection_total[year]])) != 0):\n",
    "            first_attempts_pt_yrs.at[module, year] = \\\n",
    "            len(first_attempts[pt_selection_passed])/len(first_attempts[pt_selection_total[year]]) \n",
    "            \n",
    "        if (int(len(first_attempts[ft_selection_total[year]])) != 0):\n",
    "            first_attempts_ft_yrs.at[module, year] = \\\n",
    "            len(first_attempts[ft_selection_passed])/len(first_attempts[ft_selection_total[year]])            "
   ]
  },
  {
   "cell_type": "code",
   "execution_count": null,
   "metadata": {},
   "outputs": [],
   "source": [
    "first_attempts_pt_yrs.mean()"
   ]
  },
  {
   "cell_type": "code",
   "execution_count": null,
   "metadata": {},
   "outputs": [],
   "source": [
    "first_attempts_ft_yrs.mean()"
   ]
  },
  {
   "cell_type": "code",
   "execution_count": null,
   "metadata": {},
   "outputs": [],
   "source": [
    "first_attempts[pt_selection_total].sum(axis=0)"
   ]
  },
  {
   "cell_type": "code",
   "execution_count": null,
   "metadata": {},
   "outputs": [],
   "source": [
    "first_attempts_ft_yrs.iloc[0:4].mean()"
   ]
  },
  {
   "cell_type": "code",
   "execution_count": null,
   "metadata": {
    "scrolled": true
   },
   "outputs": [],
   "source": [
    "first_attempts_ft_yrs.mean(axis=1)"
   ]
  },
  {
   "cell_type": "code",
   "execution_count": null,
   "metadata": {},
   "outputs": [],
   "source": [
    "first_attempts_pt_yrs.iloc[0:3].mean()"
   ]
  },
  {
   "cell_type": "code",
   "execution_count": null,
   "metadata": {},
   "outputs": [],
   "source": [
    "first_attempts_pt_yrs.mean(axis=1)"
   ]
  },
  {
   "cell_type": "code",
   "execution_count": null,
   "metadata": {},
   "outputs": [],
   "source": [
    "third_attempts = ATTEMPTS['third']"
   ]
  },
  {
   "cell_type": "code",
   "execution_count": null,
   "metadata": {},
   "outputs": [],
   "source": [
    "third_attempts['Attempt Type'].value_counts(dropna=False)"
   ]
  },
  {
   "cell_type": "code",
   "execution_count": null,
   "metadata": {},
   "outputs": [],
   "source": [
    "ATTEMPTS['third']['Module Result'].value_counts(dropna=False)"
   ]
  },
  {
   "cell_type": "code",
   "execution_count": null,
   "metadata": {},
   "outputs": [],
   "source": [
    "ATTEMPTS['fourth']"
   ]
  },
  {
   "cell_type": "code",
   "execution_count": null,
   "metadata": {},
   "outputs": [],
   "source": [
    "ATTEMPTS['fifth']"
   ]
  },
  {
   "cell_type": "code",
   "execution_count": null,
   "metadata": {},
   "outputs": [],
   "source": [
    "third_attempts[third_attempts['Attempt Type'].isnull()]"
   ]
  },
  {
   "cell_type": "code",
   "execution_count": null,
   "metadata": {},
   "outputs": [],
   "source": []
  }
 ],
 "metadata": {
  "kernelspec": {
   "display_name": "Python 3",
   "language": "python",
   "name": "python3"
  },
  "language_info": {
   "codemirror_mode": {
    "name": "ipython",
    "version": 3
   },
   "file_extension": ".py",
   "mimetype": "text/x-python",
   "name": "python",
   "nbconvert_exporter": "python",
   "pygments_lexer": "ipython3",
   "version": "3.7.0"
  }
 },
 "nbformat": 4,
 "nbformat_minor": 2
}
