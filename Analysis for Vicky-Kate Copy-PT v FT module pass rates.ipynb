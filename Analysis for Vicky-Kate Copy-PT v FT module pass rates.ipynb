{
 "cells": [
  {
   "cell_type": "code",
   "execution_count": 1,
   "metadata": {},
   "outputs": [],
   "source": [
    "##########################################\n",
    "\n",
    "# Start here once given anonymized csvs.\n",
    "\n",
    "###########################################\n",
    "\n",
    "import pandas as pd\n",
    "import numpy as np\n",
    "import os\n",
    "import LLB_custom_scripts_mac\n",
    "import csv"
   ]
  },
  {
   "cell_type": "code",
   "execution_count": 2,
   "metadata": {},
   "outputs": [],
   "source": [
    "# Loop through anonymized files and save the dataframes \n",
    "# of progression and module files in separate dictionaries.\n",
    "# Also make a dictionary with the number of assessments in \n",
    "# each module, each year.\n",
    "\n",
    "# Define paths for locating anonymized csvs.\n",
    "anon_module_csv_path = (\"/Users/Kate/Desktop/Vicky project/\"\n",
    "                        \"Data/anonymized module csvs/\")\n",
    "\n",
    "anon_progression_csv_path = (\"/Users/Kate/Desktop/Vicky project/\"\n",
    "                            \"Data/anonymized progression csvs/\")\n",
    "\n",
    "progression_files = {}\n",
    "module_files = {}\n",
    "n_assessments_module_dict = {}\n",
    "\n",
    "for filename in os.listdir(anon_module_csv_path):\n",
    "    if filename == '.DS_Store': \n",
    "        continue\n",
    "    else:\n",
    "        # Convert csv to dataframe and store in a dictionary.\n",
    "        module_name = f'{filename}'.split('.')[0]\n",
    "        module_files[module_name] = pd.read_csv(\n",
    "            anon_module_csv_path + f'{filename}')\n",
    "        module_files[module_name].set_index('SPR Code', inplace=True)\n",
    "        num_assessments = module_files[module_name].columns[-1].split(' ')[1]\n",
    "        n_assessments_module_dict[module_name] = num_assessments\n",
    "for filename in os.listdir(anon_progression_csv_path):\n",
    "    if filename == '.DS_Store': \n",
    "        continue\n",
    "    else:\n",
    "        # Convert csv to dataframe and store in a dictionary.\n",
    "        progression_files[f'{filename}'.split('.')[0]] = pd.read_csv(\n",
    "            anon_progression_csv_path + f'{filename}')\n",
    "        progression_files[f'{filename}'.split('.')[0]].set_index(\n",
    "            'SPR Code', inplace=True)"
   ]
  },
  {
   "cell_type": "code",
   "execution_count": 3,
   "metadata": {},
   "outputs": [],
   "source": [
    "#################################################################\n",
    "\n",
    "# Below are code snippets that I will turn into functions for batch\n",
    "# analysis once I've gotten the snippets figured out and have \n",
    "# planned the batch analysis process. \n",
    "#\n",
    "# Each snippet is for a single module.\n",
    "#\n",
    "# Each snippet should be written as efficiently as possible.\n",
    "\n",
    "#################################################################"
   ]
  },
  {
   "cell_type": "code",
   "execution_count": 4,
   "metadata": {},
   "outputs": [],
   "source": [
    "# Determine pass rate for each module in 201718, separated by FT/PT"
   ]
  },
  {
   "cell_type": "code",
   "execution_count": 5,
   "metadata": {},
   "outputs": [
    {
     "data": {
      "text/plain": [
       "{'BA Language and/with Global Politics with International Experience (full time)',\n",
       " 'BA Language and/with International Law (full time)',\n",
       " 'BA Language and/with International Law (part-time)',\n",
       " 'BA Language and/with International Law with International Experience (full time)',\n",
       " 'LLB Law (full-time)',\n",
       " 'LLB Law (part-time)',\n",
       " 'LLB Law: 6 Year Route',\n",
       " 'The School of Oriental and African Studies'}"
      ]
     },
     "execution_count": 5,
     "metadata": {},
     "output_type": "execute_result"
    }
   ],
   "source": [
    "# determine all possibilities for part-time program label and full-time program label\n",
    "program_names = set()\n",
    "for dfname, df in module_files.items():\n",
    "    year, module, assessment = dfname.split('_') \n",
    "    if year == '201718':\n",
    "        program_names = set(df['Programme']) | program_names\n",
    "program_names"
   ]
  },
  {
   "cell_type": "code",
   "execution_count": 6,
   "metadata": {},
   "outputs": [
    {
     "name": "stdout",
     "output_type": "stream",
     "text": [
      "TORT PT: 79.41176470588235 FT: 56.41025641025641\n",
      "CONTRACT PT: 50.0 FT: 66.08695652173913\n",
      "EU PT: 91.30434782608695 FT: 82.92682926829268\n",
      "LSM PT: 58.82352941176471 FT: 60.204081632653065\n",
      "EQUITY PT: 67.85714285714286 FT: 75.26881720430107\n",
      "LT1 PT: 93.33333333333333 FT: 85.0\n",
      "LAND PT: 72.41379310344827 FT: 71.5909090909091\n",
      "CONAD PT: 54.385964912280706 FT: 61.36363636363637\n",
      "CRIMINAL PT: 90.32258064516128 FT: 81.70731707317073\n",
      "LT2 PT: 91.30434782608695 FT: 86.58536585365853\n"
     ]
    },
    {
     "name": "stderr",
     "output_type": "stream",
     "text": [
      "/Users/Kate/anaconda3/lib/python3.7/site-packages/ipykernel_launcher.py:4: UserWarning: This pattern has match groups. To actually get the groups, use str.extract.\n",
      "  after removing the cwd from sys.path.\n"
     ]
    }
   ],
   "source": [
    "for dfname, df in module_files.items():\n",
    "    year, module, assessment = dfname.split('_')   \n",
    "    if year == '201718':\n",
    "        PT_students = df[df['Programme'].str.contains('(part-time)')]\n",
    "        FT_students = df[df['Programme'].str.contains('full')]\n",
    "        pass_fail_PT = PT_students['Result'].value_counts(normalize=True) * 100\n",
    "        pass_fail_FT = FT_students['Result'].value_counts(normalize=True) * 100\n",
    "        print(module + \" \" + \"PT: \" + str(pass_fail_PT['P']) + \" \" + \"FT: \" + str(pass_fail_FT['P']))"
   ]
  },
  {
   "cell_type": "code",
   "execution_count": 9,
   "metadata": {},
   "outputs": [
    {
     "data": {
      "text/plain": [
       "P    91.304348\n",
       "F     8.695652\n",
       "Name: Result, dtype: float64"
      ]
     },
     "execution_count": 9,
     "metadata": {},
     "output_type": "execute_result"
    }
   ],
   "source": [
    "pass_fail_PT"
   ]
  },
  {
   "cell_type": "code",
   "execution_count": null,
   "metadata": {},
   "outputs": [],
   "source": []
  }
 ],
 "metadata": {
  "kernelspec": {
   "display_name": "Python 3",
   "language": "python",
   "name": "python3"
  },
  "language_info": {
   "codemirror_mode": {
    "name": "ipython",
    "version": 3
   },
   "file_extension": ".py",
   "mimetype": "text/x-python",
   "name": "python",
   "nbconvert_exporter": "python",
   "pygments_lexer": "ipython3",
   "version": "3.7.0"
  }
 },
 "nbformat": 4,
 "nbformat_minor": 2
}
