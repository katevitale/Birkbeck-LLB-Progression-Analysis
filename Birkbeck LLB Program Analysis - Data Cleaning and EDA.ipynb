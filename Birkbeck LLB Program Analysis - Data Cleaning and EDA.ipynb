{
 "cells": [
  {
   "cell_type": "markdown",
   "metadata": {},
   "source": [
    "# Data Cleaning\n",
    "\n",
    "Data is anonymized by Birkbeck personnel using the 'Student Data Anonymization' script and sent outside the university for further processing using this script."
   ]
  },
  {
   "cell_type": "code",
   "execution_count": null,
   "metadata": {},
   "outputs": [],
   "source": [
    "##########################################\n",
    "\n",
    "# Start here once given anonymized csvs.\n",
    "\n",
    "###########################################\n",
    "\n",
    "import pandas as pd\n",
    "import numpy as np\n",
    "import matplotlib.pyplot as plt\n",
    "import os\n",
    "import LLB_custom_scripts_mac\n",
    "from LLB_custom_scripts_mac \\\n",
    " import make_students_dataframe, make_attempts_dataframe, \\\n",
    "        add_fr_and_dr_flags, make_module_summary, \\\n",
    "        create_outcomes_series, plot_single_cohort_progression, \\\n",
    "        plot_all_yrs_progression, get_prop_failures_yr_1_due_to_NS, \\\n",
    "        get_prob_pass_FYC_if_submit\n",
    "import csv\n",
    "from collections import Counter\n",
    "import re\n",
    "from functools import reduce\n",
    "from matplotlib.lines import Line2D\n",
    "import warnings\n",
    "warnings.filterwarnings('ignore')"
   ]
  },
  {
   "cell_type": "markdown",
   "metadata": {},
   "source": [
    "### Storing each anonymized dataframe of student grades in a dictionary"
   ]
  },
  {
   "cell_type": "code",
   "execution_count": null,
   "metadata": {},
   "outputs": [],
   "source": [
    "# Loop through anonymized files and save the dataframes \n",
    "# in a dictionary.\n",
    "# Also make a dictionary with the number of assessments in \n",
    "# each module, each year.\n",
    "# Store the 201011 student numbers for comparison\n",
    "\n",
    "anon_module_csv_path = (\"/Users/Kate/Desktop/Vicky project/\"\n",
    "                        \"Data/anonymized module csvs/\")\n",
    "\n",
    "module_files = {}\n",
    "n_assessments_module_dict = {}\n",
    "students_pre2013 = []\n",
    "\n",
    "for filename in os.listdir(anon_module_csv_path):\n",
    "    if filename == '.DS_Store': \n",
    "        continue\n",
    "    else:  \n",
    "        year, module, tmp = f'{filename}'.split('.')[0].split('_')                                       \n",
    "        if year in ['200910', '201011', '201112', '201213']:\n",
    "            df = pd.read_csv(\n",
    "                        anon_module_csv_path + f'{filename}')\n",
    "            students_pre2013.extend(df['SPR Code'].tolist())\n",
    "        else: \n",
    "            module_name = f'{filename}'.split('.')[0]\n",
    "            module_files[module_name] = pd.read_csv(\n",
    "                                    anon_module_csv_path + f'{filename}')\n",
    "            module_files[module_name].set_index('SPR Code', inplace=True)\n",
    "            num_assessments = (module_files[module_name]\n",
    "                               .columns[-1].split(' ')[1])\n",
    "            n_assessments_module_dict[module_name] = num_assessments\n",
    "            \n",
    "students_pre2013 = list(set(students_pre2013))"
   ]
  },
  {
   "cell_type": "markdown",
   "metadata": {},
   "source": [
    "### Removing all students not in LLB program or with blank or ambiguous results"
   ]
  },
  {
   "cell_type": "code",
   "execution_count": null,
   "metadata": {},
   "outputs": [],
   "source": [
    "# Remove all students with blank results\n",
    "for dfname, df in module_files.items():\n",
    "    module_files[dfname] = df[df['Result'].notnull()]"
   ]
  },
  {
   "cell_type": "code",
   "execution_count": null,
   "metadata": {},
   "outputs": [],
   "source": [
    "# Remove all students not in the LLB programme\n",
    "for dfname, df in module_files.items():\n",
    "    module_files[dfname] = df[df['Programme'].str.startswith('LLB Law')] "
   ]
  },
  {
   "cell_type": "code",
   "execution_count": null,
   "metadata": {},
   "outputs": [],
   "source": [
    "# Remove all duplicated student entries from module dataframes \n",
    "# since confusion about a variable, will have to remove all that were \n",
    "# duplicated\n",
    "for dfname, df in module_files.items():\n",
    "    module_files[dfname] = df[~df.index.duplicated(keep=False)]"
   ]
  },
  {
   "cell_type": "code",
   "execution_count": null,
   "metadata": {},
   "outputs": [],
   "source": [
    "# Change assessment marks to floating point\n",
    "for dfname, df in module_files.items():\n",
    "    n_assessments = int(n_assessments_module_dict[dfname])\n",
    "    module_files[dfname]['Assessment 1 Mark'] = df['Assessment 1 Mark'].astype('float')\n",
    "    if n_assessments == 2:\n",
    "        module_files[dfname]['Assessment 2 Mark'] = df['Assessment 2 Mark'].astype('float')"
   ]
  },
  {
   "cell_type": "markdown",
   "metadata": {},
   "source": [
    "### Clean module files"
   ]
  },
  {
   "cell_type": "code",
   "execution_count": null,
   "metadata": {},
   "outputs": [],
   "source": [
    "# Create Attempt type column and Attempt diff column.\n",
    "# Attempt diff is difference between module attempt number\n",
    "# and assignment attempt numbers. \n",
    "# Attempt diff will be used for reassessment calculations.\n",
    "for dfname, df in module_files.items():\n",
    "    # Calculate how many attempts were in the current year.\n",
    "    #    Once you have the attempt diff, you can figure out which attempt the numbers \n",
    "    #    for the module results, etc pertain to.\n",
    "    n_assessments = int(n_assessments_module_dict[dfname])\n",
    "    if n_assessments == 1:\n",
    "        df['Attempt diff'] = df['Attempt'].astype('float') \\\n",
    "                                - df['Assessment 1 Attempt'].astype('float')\n",
    "    elif n_assessments == 2:\n",
    "        for index, row in df.iterrows():\n",
    "            if float(row['Assessment 1 Attempt']) > float(row['Assessment 2 Attempt']):\n",
    "                df.at[index, 'Attempt diff'] = float(row['Attempt']) \\\n",
    "                                                - float(row['Assessment 1 Attempt'])\n",
    "            else:\n",
    "                df.at[index, 'Attempt diff'] = float(row['Attempt']) \\\n",
    "                                                - float(row['Assessment 2 Attempt'])\n",
    "    else:\n",
    "        print('error', dfname)\n",
    "    # Add new column for Attempt Type\n",
    "    df['Attempt type'] = 'Assessment'"
   ]
  },
  {
   "cell_type": "code",
   "execution_count": null,
   "metadata": {},
   "outputs": [],
   "source": [
    "# Make pass/fail flag for each individual assessment.\n",
    "# Assigns 'P' to 'P' or 'LP'\n",
    "# Assigns 'F' to 'F', 'W', 'FR', 'DR', or 'LF'\n",
    "# Identifies nan grades to be dealt with\n",
    "for dfname, df in module_files.items():\n",
    "    year, module, tmp = dfname.split('_')\n",
    "    # Make a df to store assessment results\n",
    "    num_assessments = int(n_assessments_module_dict[dfname])\n",
    "    df_column_names = [f'Assessment {a} P or F' \\\n",
    "                       for a in range(1, num_assessments + 1)]\n",
    "    df_idx = module_files[dfname].index\n",
    "    P_F_status = pd.DataFrame(data=[], index=df_idx, \\\n",
    "                                 columns = df_column_names)\n",
    "\n",
    "    # Populate df\n",
    "    for index, row in module_files[dfname].iterrows():\n",
    "        for a in range(1,num_assessments+1):\n",
    "            grade = row[f'Assessment {str(a)} Grade']\n",
    "            if grade in ['P','LP']:\n",
    "                P_F_status.at[index, f'Assessment {str(a)} P or F'] = 'P'\n",
    "            elif grade in ['F', 'W', 'FR', 'DR', 'LF', 'NS']:\n",
    "                P_F_status.at[index, f'Assessment {str(a)} P or F'] = 'F'\n",
    "            else:\n",
    "                P_F_status.at[index, f'Assessment {str(a)} P or F'] = np.NaN\n",
    "                print(module, year, index, 'has nan grade because', \n",
    "                      f'Assessment {str(a)} Grade was', row[f'Assessment {str(a)} Grade'], \n",
    "                      f'Assessment {str(a)} Mark was', row[f'Assessment {str(a)} Mark'],\n",
    "                      'Module Result was', row['Result'])\n",
    "    # checking on these grade designations\n",
    "    module_files[dfname] = df.join(P_F_status, how='left')"
   ]
  },
  {
   "cell_type": "code",
   "execution_count": null,
   "metadata": {},
   "outputs": [],
   "source": [
    "# Get name of next year's module and determine \n",
    "# whether student retook the module as well as\n",
    "# students' repeat/pass status the following year.\n",
    "# Create columns pertaining to retakes.\n",
    "\n",
    "def make_retake_columns(row, module_files, n_assessments_module_dict,\n",
    "                        next_year_name):\n",
    "    '''\n",
    "    Takes in a row from a module file df, \n",
    "    and returns values to put in two\n",
    "    new columns in the same df.\n",
    "    retake_next_year ->\n",
    "    df['Retake next year'], \n",
    "    and retake_and_pass ->\n",
    "    df['Retake and pass]'.\n",
    "    Must use result_type = 'expand'.\n",
    "    '''\n",
    "    SPR_code = row.name\n",
    "    if next_year_name != None:\n",
    "        # If SPR_code in next year's module...\n",
    "        if SPR_code in module_files[next_year_name].index.values: \n",
    "            retake_attempt_num = float(module_files[next_year_name].at[SPR_code, 'Attempt'])\n",
    "            current_attempt_num = float(row['Attempt'])\n",
    "            diff_in_attempts = retake_attempt_num - current_attempt_num            \n",
    "            retake_next_year = f'Y, Attempt no. diff = {diff_in_attempts}'  \n",
    "            n_assessments_next_year = n_assessments_module_dict[next_year_name]\n",
    "            if 'Assessment 1 Mark' in row.index:          \n",
    "                if float(n_assessments_next_year) == 1.0:\n",
    "                    if float(module_files[next_year_name]\n",
    "                             .at[SPR_code, 'Assessment 1 Mark']) >= 40.0:\n",
    "                        retake_and_pass = True\n",
    "                    else:\n",
    "                        retake_and_pass = False\n",
    "                elif float(n_assessments_next_year) == 2.0: \n",
    "                    # if 2 assignments the following year\n",
    "                    if ((0.5 * float(module_files[next_year_name]\n",
    "                                     .at[SPR_code, 'Assessment 1 Mark'])) \n",
    "                         + (0.5 * float(module_files[next_year_name]\n",
    "                                        .at[SPR_code, 'Assessment 2 Mark']))) >= 40.0:\n",
    "                        retake_and_pass = True\n",
    "                    else: \n",
    "                        retake_and_pass = False\n",
    "            else:\n",
    "                if ((module_files[next_year_name].at[SPR_code, 'Assessment 1 P or F'] == 'P')\n",
    "                    & (module_files[next_year_name].at[SPR_code, 'Assessment 2 P or F'] == 'P')):\n",
    "                    retake_and_pass = True\n",
    "                elif module_files[next_year_name].at[SPR_code, 'Result'] == 'P':\n",
    "                    retake_and_pass = True\n",
    "                else:\n",
    "                    retake_and_pass = False\n",
    "        else: # index not in next year's module\n",
    "            retake_next_year = 'N'\n",
    "            retake_and_pass = np.NaN\n",
    "    else: # year is '201718'\n",
    "        retake_next_year = 'unknown'\n",
    "        retake_and_pass = np.NaN\n",
    "        if current_year != '201718':\n",
    "            print(f'error parsing year') # no errors\n",
    "    return [retake_next_year, retake_and_pass]\n",
    "\n",
    "###################################################\n",
    "####### run make_retake_columns() function ########\n",
    "##### add FR retake flag and DR retake flag #######\n",
    "###################################################\n",
    "for dfname, df in module_files.items():\n",
    "    current_year = dfname.split('_')[0]\n",
    "    module = dfname.split('_')[1]\n",
    "    # Create FR and DR flags\n",
    "    df = add_fr_and_dr_flags(df) \n",
    "    # Determine next year's module file name\n",
    "    if current_year == '201718':\n",
    "        next_year_name = None\n",
    "    else:\n",
    "        next_year_name = dfname.split('_')[0][:2] + \\\n",
    "            str(int(dfname.split('_')[0][2:4]) + 1) + \\\n",
    "            str(int(dfname.split('_')[0][4:]) + 1) + '_' + \\\n",
    "            dfname.split('_')[1] + '_' + dfname.split('_')[2] \n",
    "    # Create retake columns with empty lists\n",
    "    df[['Retake next year','Retake and pass']] = df.apply(lambda row: \n",
    "                             make_retake_columns(row, module_files, \n",
    "                                                 n_assessments_module_dict,\n",
    "                                                 next_year_name), \n",
    "                             axis=1, result_type='expand')"
   ]
  },
  {
   "cell_type": "code",
   "execution_count": null,
   "metadata": {},
   "outputs": [],
   "source": [
    "# add attempt type = retake to module files\n",
    "\n",
    "for dfname, df in module_files.items():\n",
    "    current_year = dfname.split('_')[0]\n",
    "    if current_year == '201718':\n",
    "        next_year_name = None\n",
    "    else:\n",
    "        next_year_name = dfname.split('_')[0][:2] + \\\n",
    "            str(int(dfname.split('_')[0][2:4]) + 1) + \\\n",
    "            str(int(dfname.split('_')[0][4:]) + 1) + '_' + \\\n",
    "            dfname.split('_')[1] + '_' + dfname.split('_')[2] \n",
    "    if next_year_name != None:\n",
    "        for SPR_code, row in df.iterrows():\n",
    "            # If SPR_code in next year's module...\n",
    "            if SPR_code in module_files[next_year_name].index.values:     \n",
    "                module_files[next_year_name].at[SPR_code, 'Attempt type'] = 'Retake'\n",
    "                if row['Result'] == 'D':\n",
    "                    module_files[next_year_name].at[SPR_code, 'Attempt type'] = 'DR Retake'   "
   ]
  },
  {
   "cell_type": "code",
   "execution_count": null,
   "metadata": {},
   "outputs": [],
   "source": [
    "# Write module files to excel\n",
    "outputpath = (\"/Users/Kate/Desktop/Vicky project/Data/Python Output Data/\")\n",
    "with pd.ExcelWriter(f'{outputpath}/Module Files after retake.xlsx') as writer:  \n",
    "    for dfname, df in module_files.items():\n",
    "        df.to_excel(writer, sheet_name=f'{dfname}')"
   ]
  },
  {
   "cell_type": "code",
   "execution_count": null,
   "metadata": {},
   "outputs": [],
   "source": [
    "# Change format of index\n",
    "for df in module_files.values():\n",
    "    # Make sprcode and attempt the new multi-index\n",
    "    df.set_index(['Attempt', 'Attempt type'], append=True, inplace=True)\n",
    "    \n",
    "# Create additional entries based on each attempt that year or next year\n",
    "# and break up current entries so that results pertain to the correct\n",
    "# entry\n",
    "for dfname, df in module_files.items():    \n",
    "    current_year = dfname.split('_')[0]\n",
    "    module = dfname.split('_')[1] \n",
    "    # Determine number of assessments\n",
    "    n_assessments = int(n_assessments_module_dict[dfname])\n",
    "    # Determine next year's module file name\n",
    "    if current_year == '201718':\n",
    "        next_year_name = None\n",
    "    else:\n",
    "        next_year_name = dfname.split('_')[0][:2] + \\\n",
    "            str(int(dfname.split('_')[0][2:4]) + 1) + \\\n",
    "            str(int(dfname.split('_')[0][4:]) + 1) + '_' + \\\n",
    "            dfname.split('_')[1] + '_' + dfname.split('_')[2]   \n",
    "    # Add Final Result column\n",
    "    df['Final Result on Worksheet'] = pd.Series(dtype=object)\n",
    "    df['Reassess next year'] = pd.Series(dtype='object')\n",
    "    df['Reassess next year and pass'] = pd.Series(dtype='object')\n",
    "    # Create additional rows to represent each individual attmempt\n",
    "    \n",
    "    \n",
    "    for index, row in df.iterrows(): # make this a vectorized function!!!\n",
    "        if row['Attempt diff'] == 0.0: # no or DR reassessment\n",
    "            if 'DR' not in row.tolist(): # no reassessment \n",
    "                # add Final Result in Worksheet value\n",
    "                df.at[index, 'Final Result on Worksheet'] = row['Result']\n",
    "                df.at[index, 'Reassess next year'] = False\n",
    "                df.at[index, 'Reassess next year and pass'] = np.NaN\n",
    "            else: # DR reassessment\n",
    "                # Split up the entry into two rows and create new index for DR row\n",
    "                assmt_row = row.copy()\n",
    "                DR_row = row.copy()\n",
    "                DR_index = (index[0], index[1], 'DR reassessment')\n",
    "                # Remove final results from assmt_row\n",
    "                # Remove assignment results from DR_row \n",
    "                assmt_row['Final Result on Worksheet'] = assmt_row['Result']\n",
    "                assmt_row['Reassess next year'] = False\n",
    "                assmt_row['Reassess next year and pass'] = np.NaN\n",
    "                assmt_row[['Credit', 'Grade', 'Result'\n",
    "                          ]] = np.NaN\n",
    "#                 DR_row['Final Result on Worksheet'] = np.NaN\n",
    "                DR_row['Reassess next year'] = np.NaN\n",
    "                DR_row['Reassess next year and pass'] = np.NaN\n",
    "                DR_row[['Assessment 1 Weight', 'Assessment 1 Assessment type',\n",
    "                        'Assessment 1 Assessment name', \n",
    "                        'Assessment 1 Attempt', 'Assessment 1 Grade', \n",
    "                        'Assessment 1 P or F', 'DR Flag', 'FR Flag',\n",
    "                        'Attempt diff', 'Retake next year', 'Retake and pass'\n",
    "                       ]] = np.NaN\n",
    "                if n_assessments == 2:\n",
    "                    DR_row[['Assessment 2 Attempt', 'Assessment 2 Grade', \n",
    "                            'Assessment 2 P or F', \n",
    "                           ]] = np.NaN \n",
    "                if 'Assessment 1 Mark' in df.columns.tolist():\n",
    "                    DR_row[['Assessment 1 Mark']] = np.NaN\n",
    "                    if n_assessments == 2:\n",
    "                        DR_row['Assessment 2 Mark'] = np.NaN    \n",
    "                    if 'Mark' in df.columns.tolist():\n",
    "                        assmt_row['Mark'] = np.NaN\n",
    "                df.loc[DR_index] = DR_row\n",
    "                df.loc[index] = assmt_row\n",
    "        if row['Attempt diff'] == 1.0: # Reassessment that year\n",
    "            # Create extra rows\n",
    "            assmt_row = row.copy()\n",
    "            FR_row = row.copy()\n",
    "            # Create relevant indeces \n",
    "            assmt_index = (index[0], int(index[1])-1, index[2])\n",
    "            FR_index = (index[0], index[1], 'FR reassessment')\n",
    "            # Populate rows appropriately\n",
    "            assmt_row['Final Result on Worksheet'] = assmt_row['Result']\n",
    "            assmt_row['Reassess next year'] = False\n",
    "            assmt_row['Reassess next year and pass'] = np.NaN\n",
    "            assmt_row[['Credit', 'Grade', 'Result']] = np.NaN\n",
    "#             FR_row['Final Result on Worksheet'] = FR_row['Result']\n",
    "            FR_row['Reassess next year'] = np.NaN\n",
    "            FR_row['Reassess next year and pass'] = np.NaN\n",
    "            FR_row[['Assessment 1 Weight', 'Assessment 1 Assessment type',\n",
    "                    'Assessment 1 Assessment name', \n",
    "                    'Assessment 1 Attempt', 'Assessment 1 Grade', \n",
    "                    'Assessment 1 P or F', 'DR Flag', 'FR Flag',\n",
    "                    'Attempt diff', 'Retake next year', 'Retake and pass'\n",
    "                   ]] = np.NaN\n",
    "            if n_assessments == 2:\n",
    "                FR_row[['Assessment 2 Weight', 'Assessment 2 Assessment type',\n",
    "                        'Assessment 2 Assessment name',\n",
    "                        'Assessment 2 Attempt', 'Assessment 2 Grade', \n",
    "                        'Assessment 2 P or F'\n",
    "                       ]] = np.NaN \n",
    "            if 'Assessment 1 Mark' in df.columns.tolist():\n",
    "                FR_row[['Assessment 1 Mark']] = np.NaN\n",
    "                if n_assessments == 2:\n",
    "                    FR_row['Assessment 2 Mark'] = np.NaN    \n",
    "                if 'Mark' in df.columns.tolist():\n",
    "                    assmt_row['Mark'] = np.NaN\n",
    "            # Assign rows to appropriate dfs and delete original row\n",
    "            df.loc[assmt_index] = assmt_row\n",
    "            df.loc[FR_index] = FR_row\n",
    "            df.drop(index=index, inplace=True)\n",
    "        if row['Attempt diff'] == 2.0: # Reassessment that year and next year\n",
    "            # Create extra rows\n",
    "            assmt_row = row.copy()\n",
    "            FR1_row = row.copy()\n",
    "            FR2_row = row.copy()\n",
    "            # Create relevant indeces \n",
    "            assmt_index = (index[0], int(index[1])-2, index[2])\n",
    "            FR1_index = (index[0], int(index[1])-1, 'FR reassessment')\n",
    "            FR2_index = (index[0], index[1], 'FR reassessment from previous year')\n",
    "            # Populate rows appropriately\n",
    "            assmt_row['Final Result on Worksheet'] = assmt_row['Result']\n",
    "            assmt_row['Reassess next year'] = True\n",
    "            assmt_row[['Credit', 'Grade', 'Result'\n",
    "                      ]] = np.NaN\n",
    "#             FR1_row['Final Result on Worksheet'] = FR1_row['Result']\n",
    "            FR1_row['Reassess next year'] = np.NaN\n",
    "            FR1_row['Reassess next year and pass'] = np.NaN\n",
    "            FR1_row[['Credit', 'Grade', 'Result',\n",
    "                     'Assessment 1 Weight', 'Assessment 1 Assessment type',\n",
    "                     'Assessment 1 Assessment name',\n",
    "                     'Assessment 1 Attempt', 'Assessment 1 Grade', \n",
    "                    'Assessment 1 P or F', 'DR Flag', 'FR Flag',\n",
    "                     'Attempt diff', 'Retake next year', 'Retake and pass'\n",
    "                   ]] = np.NaN\n",
    "#             FR2_row['Final Result on Worksheet'] = FR2_row['Result']\n",
    "            FR2_row['Reassess next year'] = np.NaN\n",
    "            FR2_row['Reassess next year and pass'] = np.NaN\n",
    "            FR2_row[['Assessment 1 Weight', 'Assessment 1 Assessment type',\n",
    "                     'Assessment 1 Assessment name',\n",
    "                     'Assessment 1 Attempt', 'Assessment 1 Grade', \n",
    "                    'Assessment 1 P or F', 'DR Flag', 'FR Flag',\n",
    "                     'Attempt diff', 'Retake next year', 'Retake and pass'\n",
    "                   ]] = np.NaN\n",
    "            if n_assessments == 2:\n",
    "                FR1_row[['Assessment 2 Weight', 'Assessment 2 Assessment type',\n",
    "                        'Assessment 2 Assessment name',\n",
    "                        'Assessment 2 Attempt', 'Assessment 2 Grade', \n",
    "                        'Assessment 2 P or F'\n",
    "                        ]] = np.NaN \n",
    "                FR2_row[['Assessment 2 Weight', 'Assessment 2 Assessment type',\n",
    "                        'Assessment 2 Assessment name',\n",
    "                        'Assessment 2 Attempt', 'Assessment 2 Grade', \n",
    "                        'Assessment 2 P or F'\n",
    "                        ]] = np.NaN \n",
    "            if 'Assessment 1 Mark' in df.columns.tolist():\n",
    "                FR1_row[['Assessment 1 Mark']] = np.NaN\n",
    "                FR2_row[['Assessment 1 Mark']] = np.NaN\n",
    "                if n_assessments == 2:\n",
    "                    FR1_row[['Assessment 2 Mark']] = np.NaN\n",
    "                    FR2_row['Assessment 2 Mark'] = np.NaN    \n",
    "                if 'Mark' in df.columns.tolist():\n",
    "                    assmt_row['Mark'] = np.NaN\n",
    "                    FR1_row['Mark'] = np.NaN\n",
    "            # Assign rows to appropriate dfs\n",
    "            df.loc[assmt_index] = assmt_row\n",
    "            df.loc[FR1_index] = FR1_row\n",
    "            df.drop(index=index, inplace=True)\n",
    "            # make FR2 row into appropriate format for the following year\n",
    "            if next_year_name != None:\n",
    "                module_files[next_year_name].loc[FR2_index] = FR2_row\n",
    "                \n",
    "                              \n",
    "    # Sort index for current df and next year's df\n",
    "    df.sort_index(inplace=True)\n",
    "    if next_year_name != None:\n",
    "        module_files[next_year_name].sort_index(inplace=True)\n",
    "for dfname, df in module_files.items():\n",
    "    # Reset index to just the SPR code\n",
    "    df.reset_index(level=['Attempt', 'Attempt type'], inplace=True)\n"
   ]
  },
  {
   "cell_type": "code",
   "execution_count": null,
   "metadata": {},
   "outputs": [],
   "source": [
    "# Add second reassess + pass column\n",
    "\n",
    "def make_reassess_and_pass_column(row):\n",
    "    index=row.name\n",
    "    if next_year_name != None:\n",
    "        if row['Reassess next year'] == True:\n",
    "            if type(module_files[next_year_name].at[index, 'Attempt type']) == str:\n",
    "                if module_files[next_year_name].at[index, 'Result'] == 'P':\n",
    "                    row['Reassess next year and pass'] = True\n",
    "                else:\n",
    "                    row['Reassess next year and pass'] = False\n",
    "            elif 'FR reassessment from previous year' in module_files[next_year_name].at[index, 'Attempt type']:\n",
    "                ny_df = module_files[next_year_name].copy() # next year df\n",
    "                ny_df.set_index('Attempt type', append=True, inplace=True)\n",
    "                if ny_df.loc[index, 'FR reassessment from previous year']['Result'] == 'P':  # none passed\n",
    "                    row['Reassess next year and pass'] = True\n",
    "                else:\n",
    "                    row['Reassess next year and pass'] = False\n",
    "            else:\n",
    "                print('error', dfname, index, 'Reassess inconsistency')\n",
    "        else:\n",
    "            row['Reassess next year and pass'] = np.nan\n",
    "    else:\n",
    "        row['Reassess next year and pass'] = np.nan\n",
    "    return row\n",
    "\n",
    "for dfname, df in module_files.items():\n",
    "    # Make empty second column\n",
    "    df['Reassess next year and pass'] = pd.Series(dtype='object')\n",
    "    # Determine next year's module file name\n",
    "    year = dfname.split('_')[0]\n",
    "    if year == '201718':\n",
    "        next_year_name = None\n",
    "    else:\n",
    "        next_year_name = dfname.split('_')[0][:2] + \\\n",
    "            str(int(dfname.split('_')[0][2:4]) + 1) + \\\n",
    "            str(int(dfname.split('_')[0][4:]) + 1) + '_' + \\\n",
    "            dfname.split('_')[1] + '_' + dfname.split('_')[2] \n",
    "    # Populate column\n",
    "    module_files[dfname] = df.apply(make_reassess_and_pass_column, axis=1)"
   ]
  },
  {
   "cell_type": "code",
   "execution_count": null,
   "metadata": {},
   "outputs": [],
   "source": [
    "# Rearrange columns in each module file\n",
    "for dfname, df in module_files.items():\n",
    "    pass"
   ]
  },
  {
   "cell_type": "code",
   "execution_count": null,
   "metadata": {},
   "outputs": [],
   "source": [
    "# Write module files to excel\n",
    "outputpath = (\"/Users/Kate/Desktop/Vicky project/Data/Python Output Data/\")\n",
    "with pd.ExcelWriter(f'{outputpath}/Module Files.xlsx') as writer:  \n",
    "    for dfname, df in module_files.items():\n",
    "        df.to_excel(writer, sheet_name=f'{dfname}')"
   ]
  },
  {
   "cell_type": "code",
   "execution_count": null,
   "metadata": {},
   "outputs": [],
   "source": [
    "for dfname, df in module_files.items():\n",
    "    next_year_name = dfname.split('_')[0][:2] + \\\n",
    "            str(int(dfname.split('_')[0][2:4]) + 1) + \\\n",
    "            str(int(dfname.split('_')[0][4:]) + 1) + '_' + \\\n",
    "            dfname.split('_')[1] + '_' + dfname.split('_')[2] \n",
    "    if sum(df['Result'] == 'D') > 0:\n",
    "#         print(dfname, df[df['Result'] == 'D']['Grade'])\n",
    "        for SPRcode in df[df['Result'] == 'D'].index.values:\n",
    "            if next_year_name.split('_')[0] != '201819':\n",
    "                if SPRcode in module_files[next_year_name]:\n",
    "                    print(dfname, SPRcode)\n",
    "                    \n",
    "# No retakes after deferral"
   ]
  },
  {
   "cell_type": "markdown",
   "metadata": {},
   "source": [
    "### Make module summaries"
   ]
  },
  {
   "cell_type": "code",
   "execution_count": null,
   "metadata": {},
   "outputs": [],
   "source": [
    "## Make module summary files\n",
    "\n",
    "# Note: Students are given the opportunity to reassess for whatever \n",
    "# assignment they failed in order to get their grade higher for the final grade\n",
    "\n",
    "metric_names = [\n",
    "    'N (total)', 'N (enrolled)',\n",
    "    '% Pass (after reassessment same year)', '% Pass (first attempt that year)',\n",
    "    '% Pass (first attempt ever)', '% Pass (all assessed that year)',\n",
    "    '% Pass (after reassessment next year)',\n",
    "    '% Retake Next Year', '% of Retake that Pass','% Reassess (Either Asst FR or DR)', \n",
    "    '% Reassess (Either Asst FR or DR) that Pass', '% FR Reassess', \n",
    "    '% FR Reassess that Pass', '% DR Reassess', '% DR Reassess that Pass',\n",
    "    '% Second Reassess', '% Second Reassess that Pass',\n",
    "    '% Submit all assignments', '% Submit all assignments that pass',\n",
    "    '% Submit one of two assignments', '% Submit no assignments',\n",
    "    '% Fail that submit all assignments', '% Fail that submit one of two assignments',\n",
    "    '% Fail that submit no assignments',\n",
    "    'Asst. 1: % Pass', 'Asst. 1: % F (Not DR or FR)', 'Asst. 1: % W',\n",
    "    'Asst. 1: % FR', 'Asst. 1: % DR', 'Asst. 1: % LF', \n",
    "    'Asst. 1: % No Sub', 'Asst. 1: % Failed Sub', 'Asst. 1 F: % No Sub',\n",
    "    'Asst. 1 F: % Failed Sub', 'Asst. 1: % Submit that Pass',\n",
    "    'Asst. 2: % Pass', 'Asst. 2: % F (Not DR or FR)',\n",
    "    'Asst. 2: % W', 'Asst. 2: % FR', 'Asst. 2: % DR', 'Asst. 2: % LF',\n",
    "    'Asst. 2: % No Sub', 'Asst. 2: % Failed Sub', 'Asst. 2 F: % No Sub',\n",
    "    'Asst. 2 F: % Failed Sub', 'Asst. 2: % Submit that Pass']\n",
    "module_names = ['LSM','CONAD','CONTRACT','TORT','CRIMINAL',\n",
    "                'LAND','EQUITY','EU','LT1','LT2']\n",
    "year_names = ['201314','201415','201516','201617','201718']\n",
    "module_summary = {}\n",
    "for module in module_names:\n",
    "    module_summary[module] = pd.DataFrame(index=metric_names, columns=year_names)\n",
    "        \n",
    "for dfname, df in module_files.items():\n",
    "    year, module, tmp = dfname.split('_')\n",
    "    if year not in ['200910', '201011', '201112', '201213']:\n",
    "        num_assessments = int(n_assessments_module_dict[dfname])\n",
    "        ser = make_module_summary(df,dfname,num_assessments)\n",
    "        module_summary[module][year] = ser\n",
    "        \n",
    "# Remove blank rows        \n",
    "for df in module_summary.values():        \n",
    "    df.dropna(how='all', inplace=True)"
   ]
  },
  {
   "cell_type": "code",
   "execution_count": null,
   "metadata": {},
   "outputs": [],
   "source": [
    "# Write module summaries to excel\n",
    "outputpath = (\"/Users/Kate/Desktop/Vicky project/Data/Python Output Data/\")\n",
    "with pd.ExcelWriter(f'{outputpath}/Module Summaries.xlsx') as writer:  \n",
    "    for dfname, df in module_summary.items():\n",
    "        df.to_excel(writer, sheet_name=f'{dfname}') "
   ]
  },
  {
   "cell_type": "code",
   "execution_count": null,
   "metadata": {},
   "outputs": [],
   "source": [
    "# Make a graph that shows how pass rates vary by module and year\n",
    "\n",
    "# Make a dropdown menu to control whether \n",
    "# 1) first attempt, second attempt or third attempt,\n",
    "# 2) type of attempt (initial, reassessment, retake, dr, fr)\n",
    "# 3) pass rate, submission rate\n",
    "# 4) for different assignments?\n",
    "# 5) all students or only PT, FT, 6YR, only those who failed, failed different assignments?\n",
    "\n",
    "# Start by making a table that shows pass rates by module, then by year\n",
    "graph1_df = pd.DataFrame()\n",
    "for dfname, df in module_summary.items():\n",
    "    tmp_df = df.loc['% Pass (after reassessment next year)', :].to_frame()\n",
    "    tmp_index = np.array([dfname] * len(tmp_df))\n",
    "    tmp_df.set_index(tmp_index, append=True, inplace=True)\n",
    "    tmp_df = tmp_df.swaplevel()\n",
    "    graph1_df = pd.concat([graph1_df, tmp_df])  \n",
    "\n",
    "# Format inputs for graphing\n",
    "colors_dict = {'201314': '0.9', '201415': '0.7', '201516': '0.5', '201617': '0.3', '201718':'0.1'}\n",
    "graph_colors=[colors_dict[i] for i in graph1_df.index.get_level_values(1)]\n",
    "values = graph1_df['% Pass (after reassessment next year)'].values.tolist()\n",
    "names_tuples = graph1_df.index.values.tolist()\n",
    "names = [str1 + ' ' + str2 for (str1, str2) in names_tuples]\n",
    "x_pos = [1,2,3,4,5, 8,9,10,11,12, 15,16,17,18,19, 22,23,24,25,26,\n",
    "         29,30,31,32,33, 36,37,38,39,40, 43,44,45,46,47,\n",
    "         50,51,52,53,54, 57,58,59,60,61, 64,65,66,67,68]\n",
    "names_pos = [3, 10, 17, 24, 31, 38, 45, 52, 59, 66]\n",
    "\n",
    "# Make and format graph\n",
    "plt.figure(figsize=(12,5))\n",
    "ax = plt.subplot(111)\n",
    "plt.axhline(y=80, color='k', linestyle='--', alpha=0.5, zorder=0)\n",
    "plt.axhline(y=60, color='r', linestyle='--', alpha=0.5, zorder=0)\n",
    "ax.bar(x_pos, values, color=graph_colors)   \n",
    "ax.spines[\"top\"].set_visible(False)\n",
    "ax.spines[\"right\"].set_visible(False)\n",
    "ax.spines[\"left\"].set_visible(False)\n",
    "plt.tick_params(axis='y',left=False,labelleft=False)\n",
    "plt.xticks(names_pos, module_names, fontsize=10)\n",
    "plt.text(-8, 79, '80% pass', alpha=0.5)\n",
    "plt.text(-8, 59, '60% pass', color='r', alpha=0.5)\n",
    "custom_lines = [Line2D([0], [0], color='0.9', lw=6),\n",
    "                Line2D([0], [0], color='0.7', lw=6),\n",
    "                Line2D([0], [0], color='0.5', lw=6),\n",
    "                Line2D([0], [0], color='0.3', lw=6),\n",
    "                Line2D([0], [0], color='0.1', lw=6)]\n",
    "ax.legend(custom_lines, ['2013/14','2014/15', '2015/16', '2016/17', '2017/18'], loc='upper right', frameon=False, bbox_to_anchor=(1.15, 1.01))\n",
    "plt.title('First Attempt Pass Rates of Each LLB Core Module \\n for the Past Five Academic Years',\n",
    "         fontweight='bold')\n",
    "# plt.show()"
   ]
  },
  {
   "cell_type": "markdown",
   "metadata": {},
   "source": [
    "### Making a 'STUDENTS' dataframe storing relevant information and computed variables of each student"
   ]
  },
  {
   "cell_type": "code",
   "execution_count": null,
   "metadata": {},
   "outputs": [],
   "source": [
    "# Remove all students that appear in modules pre 2013 \n",
    "# because land appeared in year 1, tort in year 2 \n",
    "# for FT students prior to 2013\n",
    "for dfname, df in module_files.items():\n",
    "    module_files[dfname] = df[~df.index.isin(students_pre2013)]"
   ]
  },
  {
   "cell_type": "code",
   "execution_count": null,
   "metadata": {},
   "outputs": [],
   "source": []
  },
  {
   "cell_type": "code",
   "execution_count": null,
   "metadata": {},
   "outputs": [],
   "source": [
    "# would need to use the old module files for this\n",
    "# because each row is \n",
    "\n",
    "STUDENTS, module_files = make_students_dataframe(module_files)"
   ]
  },
  {
   "cell_type": "code",
   "execution_count": null,
   "metadata": {},
   "outputs": [],
   "source": [
    "STUDENTS.head()"
   ]
  },
  {
   "cell_type": "code",
   "execution_count": null,
   "metadata": {},
   "outputs": [],
   "source": [
    "STUDENTS.columns"
   ]
  },
  {
   "cell_type": "code",
   "execution_count": null,
   "metadata": {
    "scrolled": false
   },
   "outputs": [],
   "source": [
    "STUDENTS.to_excel(\"/Users/Kate/Desktop/Vicky project/\"\n",
    "                        \"Data/Python Output Data/STUDENTS.xlsx\")"
   ]
  },
  {
   "cell_type": "code",
   "execution_count": null,
   "metadata": {},
   "outputs": [],
   "source": [
    "# check that all students have been processed correctly\n",
    "any(STUDENTS['Entire Record'].isnull())"
   ]
  },
  {
   "cell_type": "code",
   "execution_count": null,
   "metadata": {},
   "outputs": [],
   "source": [
    "len(STUDENTS)"
   ]
  },
  {
   "cell_type": "code",
   "execution_count": null,
   "metadata": {},
   "outputs": [],
   "source": [
    "STUDENTS['Year 1 Progression'].unique()"
   ]
  },
  {
   "cell_type": "markdown",
   "metadata": {},
   "source": [
    "### Creating dataframes of first, second, third, and fourth attempts of each module (course) containing relevant attempt information"
   ]
  },
  {
   "cell_type": "code",
   "execution_count": null,
   "metadata": {},
   "outputs": [],
   "source": [
    "ATTEMPTS, module_files = make_attempts_dataframe(\n",
    "                          STUDENTS, module_files, n_assessments_module_dict)"
   ]
  },
  {
   "cell_type": "code",
   "execution_count": null,
   "metadata": {},
   "outputs": [],
   "source": [
    "first_attempts = ATTEMPTS['first'].copy()\n",
    "first_attempts.reset_index(inplace=True)\n",
    "first_attempts.head()"
   ]
  },
  {
   "cell_type": "code",
   "execution_count": null,
   "metadata": {},
   "outputs": [],
   "source": [
    "first_attempts.columns"
   ]
  },
  {
   "cell_type": "code",
   "execution_count": null,
   "metadata": {},
   "outputs": [],
   "source": [
    "first_attempts.to_excel(\"/Users/Kate/Desktop/Vicky project/\"\n",
    "                        \"Data/Python Output Data/FIRST ATTEMPTS.xlsx\")"
   ]
  },
  {
   "cell_type": "code",
   "execution_count": null,
   "metadata": {},
   "outputs": [],
   "source": [
    "second_attempts = ATTEMPTS['second'].copy()\n",
    "second_attempts.reset_index(inplace=True)\n",
    "second_attempts.head()"
   ]
  },
  {
   "cell_type": "code",
   "execution_count": null,
   "metadata": {},
   "outputs": [],
   "source": [
    "second_attempts.to_excel(\"/Users/Kate/Desktop/Vicky project/\"\n",
    "                        \"Data/Python Output Data/SECOND ATTEMPTS.xlsx\")"
   ]
  },
  {
   "cell_type": "code",
   "execution_count": null,
   "metadata": {},
   "outputs": [],
   "source": [
    "second_attempts['Attempt Type'].value_counts(normalize=True, dropna=False)"
   ]
  },
  {
   "cell_type": "code",
   "execution_count": null,
   "metadata": {},
   "outputs": [],
   "source": [
    "FR_df = second_attempts[second_attempts['Attempt Type'] == 'FR Reassessment']\n",
    "DR_df = second_attempts[second_attempts['Attempt Type'] == 'DR Reassessment']\n",
    "Retake_df = second_attempts[second_attempts['Attempt Type'] == 'Retake']\n",
    "\n",
    "def calculate_prop_pass(df): \n",
    "    return len(df[df['Module Result'] == 'P'])/ len(df)\n",
    "    \n",
    "# All modules, proportion passing after FR, DR or retake second attempt\n",
    "print(calculate_prop_pass(FR_df), calculate_prop_pass(DR_df), calculate_prop_pass(Retake_df))"
   ]
  },
  {
   "cell_type": "code",
   "execution_count": null,
   "metadata": {},
   "outputs": [],
   "source": [
    "# make this into a function, and calculate these numbers for first year courses specifically"
   ]
  },
  {
   "cell_type": "code",
   "execution_count": null,
   "metadata": {},
   "outputs": [],
   "source": [
    "third_attempts = ATTEMPTS['third'].copy()\n",
    "third_attempts.reset_index(inplace=True)\n",
    "third_attempts.head()"
   ]
  },
  {
   "cell_type": "code",
   "execution_count": null,
   "metadata": {},
   "outputs": [],
   "source": [
    "third_attempts.to_excel(\"/Users/Kate/Desktop/Vicky project/\"\n",
    "                        \"Data/Python Output Data/THIRD ATTEMPTS.xlsx\")"
   ]
  },
  {
   "cell_type": "code",
   "execution_count": null,
   "metadata": {},
   "outputs": [],
   "source": [
    "fourth_attempts = ATTEMPTS['fourth'].copy()\n",
    "fourth_attempts.reset_index(inplace=True)\n",
    "fourth_attempts.head()"
   ]
  },
  {
   "cell_type": "code",
   "execution_count": null,
   "metadata": {},
   "outputs": [],
   "source": [
    "fourth_attempts.to_excel(\"/Users/Kate/Desktop/Vicky project/\"\n",
    "                        \"Data/Python Output Data/FOURTH ATTEMPTS.xlsx\")"
   ]
  },
  {
   "cell_type": "code",
   "execution_count": null,
   "metadata": {},
   "outputs": [],
   "source": [
    "any(ATTEMPTS['fifth'].index)"
   ]
  },
  {
   "cell_type": "markdown",
   "metadata": {},
   "source": [
    "# Analysis and Visualization"
   ]
  },
  {
   "cell_type": "markdown",
   "metadata": {},
   "source": [
    "### Assessing the problem: what is the distribution of outcomes of LLB students?"
   ]
  },
  {
   "cell_type": "code",
   "execution_count": null,
   "metadata": {},
   "outputs": [],
   "source": [
    "outcomes = ['Graduated','Failed out','Left in good standing',\n",
    "                         'Still in program']\n",
    "outcomes_ser = create_outcomes_series(STUDENTS, '2013')\n",
    "x = outcomes_ser\n",
    "labels = pd.Index(outcomes)\n",
    "colors = ['0.75', 'r', '0.5', '0.4']\n",
    "textprops = {}\n",
    "fig = plt.figure(figsize=(5,5))\n",
    "plt.pie(x, explode=None, labels=labels, colors=colors, autopct='%1.f%%', \n",
    "        pctdistance=0.6, shadow=False, labeldistance=1.1, startangle=15, \n",
    "        radius=1, counterclock=True, center=(0, 0), textprops=dict(fontsize=12))\n",
    "plt.title('2013 Cohort',\n",
    "         fontsize=14, fontweight='bold');"
   ]
  },
  {
   "cell_type": "markdown",
   "metadata": {},
   "source": [
    "### What does the progression of LLB students look like?"
   ]
  },
  {
   "cell_type": "code",
   "execution_count": null,
   "metadata": {},
   "outputs": [],
   "source": [
    "year_entered = '201314'\n",
    "# removing students who entered at year 2\n",
    "STUDENTS_copy = STUDENTS.copy()\n",
    "STUDENTS_copy = STUDENTS_copy[STUDENTS_copy['Year 1 Progression'] == 'Year 1']\n",
    "# plotting figure with function in custom scripts\n",
    "plot_single_cohort_progression(STUDENTS_copy, year_entered)"
   ]
  },
  {
   "cell_type": "markdown",
   "metadata": {},
   "source": [
    "### When do students 'get stuck'?"
   ]
  },
  {
   "cell_type": "code",
   "execution_count": null,
   "metadata": {},
   "outputs": [],
   "source": [
    "# What proportion of students who are progressing on time graduate?\n",
    "STUDENTS.loc[(STUDENTS['Year started'] == '201314') & \n",
    "        STUDENTS['Year 3 Progression'].isin(['Year 3']), \n",
    "            'Current status'].value_counts(normalize=True)"
   ]
  },
  {
   "cell_type": "code",
   "execution_count": null,
   "metadata": {},
   "outputs": [],
   "source": [
    "years_of_interest = ['201314','201415','201516','201617']\n",
    "plot_all_yrs_progression(STUDENTS_copy, years_of_interest)"
   ]
  },
  {
   "cell_type": "code",
   "execution_count": null,
   "metadata": {},
   "outputs": [],
   "source": [
    "# Distribution of years students are working on when they fail out\n",
    "left_badly = ['Terminated', 'Withdrawn', 'Left after failing',\n",
    "                  'Left prematurely - details unknown']\n",
    "(STUDENTS.loc[STUDENTS['Current status'].isin(left_badly), \n",
    "             'Final progression status'].value_counts(normalize=True))"
   ]
  },
  {
   "cell_type": "markdown",
   "metadata": {},
   "source": [
    "### Why are students failing year 1 courses? "
   ]
  },
  {
   "cell_type": "markdown",
   "metadata": {},
   "source": [
    "### What proportion of failures in year 1 are due to non-submission?\n"
   ]
  },
  {
   "cell_type": "code",
   "execution_count": null,
   "metadata": {},
   "outputs": [],
   "source": [
    "get_prop_failures_yr_1_due_to_NS(first_attempts)"
   ]
  },
  {
   "cell_type": "markdown",
   "metadata": {},
   "source": [
    "### What is the probability of passing first year module if submit all assignments?"
   ]
  },
  {
   "cell_type": "code",
   "execution_count": null,
   "metadata": {},
   "outputs": [],
   "source": [
    "get_prob_pass_FYC_if_submit(first_attempts)"
   ]
  },
  {
   "cell_type": "code",
   "execution_count": null,
   "metadata": {},
   "outputs": [],
   "source": [
    "!git --version"
   ]
  },
  {
   "cell_type": "code",
   "execution_count": null,
   "metadata": {},
   "outputs": [],
   "source": []
  }
 ],
 "metadata": {
  "kernelspec": {
   "display_name": "Python 3",
   "language": "python",
   "name": "python3"
  },
  "language_info": {
   "codemirror_mode": {
    "name": "ipython",
    "version": 3
   },
   "file_extension": ".py",
   "mimetype": "text/x-python",
   "name": "python",
   "nbconvert_exporter": "python",
   "pygments_lexer": "ipython3",
   "version": "3.7.0"
  }
 },
 "nbformat": 4,
 "nbformat_minor": 2
}
