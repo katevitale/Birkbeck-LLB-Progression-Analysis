{
 "cells": [
  {
   "cell_type": "code",
   "execution_count": null,
   "metadata": {},
   "outputs": [],
   "source": [
    "##########################################\n",
    "\n",
    "# Start here once given anonymized csvs.\n",
    "\n",
    "###########################################\n",
    "%matplotlib inline \n",
    "import pandas as pd\n",
    "import numpy as np\n",
    "import matplotlib.pyplot as plt\n",
    "import os\n",
    "import LLB_custom_scripts_mac\n",
    "from LLB_custom_scripts_mac import make_module_summary\n",
    "import csv\n",
    "from collections import Counter"
   ]
  },
  {
   "cell_type": "code",
   "execution_count": null,
   "metadata": {},
   "outputs": [],
   "source": [
    "# Loop through anonymized files and save the dataframes \n",
    "# of progression and module files in separate dictionaries.\n",
    "# Also make a dictionary with the number of assessments in \n",
    "# each module, each year.\n",
    "\n",
    "# Paths for locating anonymized csvs:\n",
    "anon_module_csv_path = (\"/Users/Kate/Desktop/Vicky project/\"\n",
    "                        \"Data/anonymized module csvs/\")\n",
    "\n",
    "anon_progression_csv_path = (\"/Users/Kate/Desktop/Vicky project/\"\n",
    "                            \"Data/anonymized progression csvs/\")\n",
    "\n",
    "progression_files = {}\n",
    "module_files = {}\n",
    "n_assessments_module_dict = {}\n",
    "\n",
    "# Loop\n",
    "for filename in os.listdir(anon_module_csv_path):\n",
    "    if filename == '.DS_Store': \n",
    "        continue\n",
    "    else:\n",
    "        # Convert csv to dataframe and store in a dictionary.\n",
    "        module_name = f'{filename}'.split('.')[0]\n",
    "        module_files[module_name] = pd.read_csv(\n",
    "            anon_module_csv_path + f'{filename}')\n",
    "        module_files[module_name].set_index('SPR Code', inplace=True)\n",
    "        num_assessments = module_files[module_name].columns[-1].split(' ')[1]\n",
    "        n_assessments_module_dict[module_name] = num_assessments\n",
    "for filename in os.listdir(anon_progression_csv_path):\n",
    "    if filename == '.DS_Store': \n",
    "        continue\n",
    "    else:\n",
    "        # Convert csv to dataframe and store in a dictionary.\n",
    "        progression_files[f'{filename}'.split('.')[0]] = pd.read_csv(\n",
    "            anon_progression_csv_path + f'{filename}')\n",
    "        progression_files[f'{filename}'.split('.')[0]].set_index(\n",
    "            'SPR Code', inplace=True)"
   ]
  },
  {
   "cell_type": "code",
   "execution_count": null,
   "metadata": {},
   "outputs": [],
   "source": [
    "# Remove all duplicates from module dataframes and keep the first instance\n",
    "for dfname, df in module_files.items():\n",
    "    module_files[dfname] = df[~df.index.duplicated(keep='first')]"
   ]
  },
  {
   "cell_type": "code",
   "execution_count": null,
   "metadata": {},
   "outputs": [],
   "source": [
    "# Remove all students with blank results\n",
    "for dfname, df in module_files.items():\n",
    "    module_files[dfname] = df[df['Result'].notnull()]"
   ]
  },
  {
   "cell_type": "code",
   "execution_count": null,
   "metadata": {},
   "outputs": [],
   "source": [
    "# Make pass/fail flag for each individual assessment.\n",
    "# Assigns 'P' to 'P' or 'LP'\n",
    "# Assigns 'F' to 'F', 'W', 'FR', 'DR', or 'LF'\n",
    "# Identifies nan grades to be dealt with\n",
    "\n",
    "for dfname, df in module_files.items():\n",
    "    year, module, tmp = dfname.split('_')\n",
    "    # Make a df to store assessment results\n",
    "    num_assessments = int(n_assessments_module_dict[dfname])\n",
    "    df_column_names = [f'Assessment {a} P or F' \\\n",
    "                       for a in range(1, num_assessments + 1)]\n",
    "    df_idx = module_files[dfname].index\n",
    "    P_F_status = pd.DataFrame(data=[], index=df_idx, \\\n",
    "                                 columns = df_column_names)\n",
    "\n",
    "    # Populate df\n",
    "    for index, row in module_files[dfname].iterrows():\n",
    "        for a in range(1,num_assessments+1):\n",
    "            grade = row[f'Assessment {str(a)} Grade']\n",
    "            if grade in ['P','LP']:\n",
    "                P_F_status.at[index, f'Assessment {str(a)} P or F'] = 'P'\n",
    "            elif grade in ['F', 'W', 'FR', 'DR', 'LF']:\n",
    "                P_F_status.at[index, f'Assessment {str(a)} P or F'] = 'F'\n",
    "            else:\n",
    "                P_F_status.at[index, f'Assessment {str(a)} P or F'] = np.NaN\n",
    "                print(module, year, index, 'has nan grade.')\n",
    "    # checking on these grade designations\n",
    "    module_files[dfname] = df.join(P_F_status, how='left')"
   ]
  },
  {
   "cell_type": "code",
   "execution_count": null,
   "metadata": {
    "scrolled": false
   },
   "outputs": [],
   "source": [
    "# For each module, get name of next year's module \n",
    "# and then determine students' repeat/pass status the following year.\n",
    "\n",
    "for dfname, df in module_files.items():\n",
    "    current_year = dfname.split('_')[0]\n",
    "    module = dfname.split('_')[1]\n",
    "    df['Retake next year'] = pd.Series(dtype='object') # necessary so not float\n",
    "    df['Retake and pass'] = pd.Series(dtype='object')\n",
    "    df['Retake and fail submit stat'] = pd.Series(dtype='object')\n",
    "    if current_year == '201718':\n",
    "        next_year = None\n",
    "    else:\n",
    "        next_year = dfname.split('_')[0][:2] + \\\n",
    "            str(int(dfname.split('_')[0][2:4]) + 1) + \\\n",
    "            str(int(dfname.split('_')[0][4:]) + 1) + '_' + \\\n",
    "            dfname.split('_')[1] + '_' + dfname.split('_')[2]\n",
    "    # Determine if module retaken following year (could turn this into a function?)\n",
    "    for index, row in df.iterrows():\n",
    "        try:\n",
    "            current_attempt_num = int(df.at[index, 'Attempt'])\n",
    "        except:\n",
    "            current_attempt_num = int(df.at[index, 'Attempt'][0])\n",
    "        if next_year != None:\n",
    "            if index in module_files[next_year].index.values:\n",
    "                retake_attempt_num = int(module_files[next_year].at[index, 'Attempt'])\n",
    "                diff_in_attempts = retake_attempt_num - current_attempt_num\n",
    "                df.at[index,'Retake next year'] = f'Y, Attempt no. diff = {diff_in_attempts}'\n",
    "                if module_files[next_year].at[index, 'Result'] == 'P':\n",
    "                    df.at[index,'Retake and pass'] = True\n",
    "                    df.at[index, 'Retake and fail submit stat'] = np.NaN\n",
    "                else:\n",
    "                    df.at[index,'Retake and pass'] = False \n",
    "                    if module != 'LSM':\n",
    "                        if module_files[next_year].at[index, 'Mark'].astype('int') == 0:\n",
    "                            df.at[index, 'Retake and fail submit stat'] = 'No submit'\n",
    "                        else:\n",
    "                            df.at[index, 'Retake and fail submit stat'] = 'Failed submit'\n",
    "                    else:\n",
    "                        df.at[index, 'Retake and fail submit stat'] = np.NaN\n",
    "            else: # index not in next year's module\n",
    "                df.at[index,'Retake next year'] = 'N'\n",
    "                df.at[index,'Retake and pass'] = np.NaN\n",
    "                df.at[index, 'Retake and fail submit stat'] = np.NaN\n",
    "        else: # year is '201718'\n",
    "            df.at[index,'Retake next year'] = np.NaN\n",
    "            df.at[index,'Retake and pass'] = np.NaN\n",
    "            df.at[index, 'Retake and fail submit stat'] = np.NaN\n",
    "            if current_year != '201718':\n",
    "                print(f'error parsing year')#no errors           \n",
    "    module_files[dfname] = df"
   ]
  },
  {
   "cell_type": "code",
   "execution_count": null,
   "metadata": {},
   "outputs": [],
   "source": [
    "# get a visual sense of the retakes in tabular form\n",
    "\n",
    "X = pd.DataFrame()\n",
    "\n",
    "for dfname, df in module_files.items():\n",
    "    year, name, assessment = dfname.split('_')\n",
    "    if year != '201718':\n",
    "        X[dfname] = module_files[dfname]['Retake and fail submit stat'].value_counts(normalize=True, dropna=False)\n",
    "X = X.reindex(sorted(X.columns), axis=1)\n",
    "\n",
    "# X"
   ]
  },
  {
   "cell_type": "code",
   "execution_count": null,
   "metadata": {},
   "outputs": [],
   "source": [
    "## Make module summary files\n",
    "\n",
    "# Note: Students are given the opportunity to reassess for whatever assignment they failed \n",
    "# in order to get their grade higher for the final grade\n",
    "\n",
    "metric_names = [\n",
    "    'N (total)',\n",
    "    '% Pass (total)','% Att. 1','% Pass (Att. 1)','% Att. 2','% Pass (Att. 2)','% Att. 3','% Pass (Att. 3)',\n",
    "    '% Retake Next Year','% of Retake that Pass (total)', '% of Retake and Fail that Do Not Submit', \n",
    "    '% of Retake and Fail that Fail Submission', '% Reassess (Either Asst FR or DR)',\n",
    "    '% Reassess that Pass (F Otherwise)','% Reassess that Pass (P Otherwise)', '% Reassess and final grade DR', \n",
    "    '% Reassess & No Sub at Reassess','% Reassess & Failed Sub at Reassess',\n",
    "    'Asst. 1: % Pass','Asst. 1: % F (Not DR or FR)','Asst. 1: % W','Asst. 1: % FR','Asst. 1: % DR', 'Asst. 1: % LF', \n",
    "    'Asst. 1: % No Sub','Asst. 1: % Failed Sub','Asst. 1 F: % No Sub','Asst. 1 F: % Failed Sub',\n",
    "    'Asst. 1: % FR that Pass (F Otherwise)','Asst. 1: % DR that Pass (F Otherwise)', 'Asst. 1: % Submit that Pass',\n",
    "    'Asst. 2: % Pass','Asst. 2: % F (Not DR or FR)','Asst. 2: % W','Asst. 2: % FR','Asst. 2: % DR', 'Asst. 2: % LF',\n",
    "    'Asst. 2: % No Sub','Asst. 2: % Failed Sub','Asst. 2 F: % No Sub','Asst. 2 F: % Failed Sub',\n",
    "    'Asst. 2: % FR that Pass (F Otherwise)','Asst. 2: % DR that Pass (F Otherwise)', 'Asst. 2: % Submit that Pass'\n",
    "]\n",
    "module_names = ['LSM','CONAD','CONTRACT','TORT','CRIMINAL','LAND','EQUITY','EU','LT1','LT2']\n",
    "year_names = ['201415','201516','201617','201718']\n",
    "module_summary = {}\n",
    "for module in module_names:\n",
    "    module_summary[module] = pd.DataFrame(index=metric_names, columns=year_names)\n",
    "             \n",
    "for dfname, df in module_files.items():\n",
    "    num_assessments = int(n_assessments_module_dict[dfname])\n",
    "    year, module, tmp = dfname.split('_')\n",
    "    ser = make_module_summary(df,dfname,num_assessments)\n",
    "    module_summary[module][year] = ser"
   ]
  },
  {
   "cell_type": "code",
   "execution_count": null,
   "metadata": {},
   "outputs": [],
   "source": [
    "# Write module summaries to excel\n",
    "outputpath = (\"/Users/Kate/Desktop/Vicky project/Data/\")\n",
    "with pd.ExcelWriter(f'{outputpath}/Module Summaries.xlsx') as writer:  \n",
    "    for dfname, df in module_summary.items():\n",
    "        df.to_excel(writer, sheet_name=f'{dfname}')"
   ]
  },
  {
   "cell_type": "code",
   "execution_count": null,
   "metadata": {
    "scrolled": true
   },
   "outputs": [],
   "source": [
    "# Make a graph that shows how pass rates vary by module and year\n",
    "\n",
    "# Start by making a table that shows pass rates by module, then by year\n",
    "graph1_df = pd.DataFrame()\n",
    "for dfname, df in module_summary.items():\n",
    "    tmp_df = df.loc['% Pass (total)', :].to_frame()\n",
    "    tmp_index = np.array([dfname] * len(tmp_df))\n",
    "    tmp_df.set_index(tmp_index, append=True, inplace=True)\n",
    "    tmp_df = tmp_df.swaplevel()\n",
    "    graph1_df = pd.concat([graph1_df, tmp_df])  \n",
    "\n",
    "# Make graph\n",
    "\n",
    "colors_dict = {'LSM': 'red', 'CONAD': 'blue', 'CONTRACT': 'green', 'TORT':'black', 'CRIMINAL': 'yellow', \n",
    "          'LAND': 'cyan', 'EQUITY': 'magenta', 'EU': 'red', 'LT1': 'blue', 'LT2': 'green'}\n",
    "\n",
    "graph_colors=[colors_dict[i] for i in graph1_df.index.get_level_values(0)]\n",
    "\n",
    "values = graph1_df['% Pass (total)'].values.tolist()\n",
    "names_tuples = graph1_df.index.values.tolist()\n",
    "names = [str1 + ' ' + str2 for (str1, str2) in names_tuples]\n",
    "plt.figure(figsize=(10,5))\n",
    "plt.bar(names, values, color=graph_colors)   \n",
    "plt.xticks(fontsize=12, rotation =90)\n",
    "plt.ylabel('Pass rate (%)', fontsize=20)\n",
    "plt.show()"
   ]
  },
  {
   "cell_type": "code",
   "execution_count": null,
   "metadata": {},
   "outputs": [],
   "source": [
    "# test for effect of module and year"
   ]
  },
  {
   "cell_type": "code",
   "execution_count": null,
   "metadata": {},
   "outputs": [],
   "source": [
    "# make this graph above collapsed across years, also collasped across modules first year"
   ]
  },
  {
   "cell_type": "code",
   "execution_count": null,
   "metadata": {},
   "outputs": [],
   "source": [
    "# submission v non-submission collapsed across all first year assignments (before reassessment)\n",
    "\n",
    "# Make a new df with all assignments first year"
   ]
  },
  {
   "cell_type": "code",
   "execution_count": null,
   "metadata": {},
   "outputs": [],
   "source": [
    "# what is the most common set of last classes that students take in the dataset before disappearing early?\n",
    "# assumption: students are admitted at a relatively steady rate each year\n",
    "\n",
    "student_attempts = pd.DataFrame()\n",
    "student_results = pd.DataFrame()\n",
    "for dfname, df in module_files.items():\n",
    "    year, module, tmp = dfname.split('_')\n",
    "    student_attempts = (student_attempts.join(df[['Attempt']], how='outer'))\n",
    "    student_attempts.rename(columns={'Attempt': f'{year} {module}'}, inplace=True)\n",
    "    student_results = (student_results.join(df[['Result']], how='outer'))\n",
    "    student_results.rename(columns={'Result': f'{year} {module}'},inplace=True)\n",
    "student_attempts = student_attempts.reindex(sorted(student_attempts.columns), axis=1)#sorted by year\n",
    "student_results = student_results.reindex(sorted(student_results.columns), axis=1)\n",
    "\n",
    "student_zipped = student_attempts.astype('str') + ' ' + student_results "
   ]
  },
  {
   "cell_type": "code",
   "execution_count": null,
   "metadata": {},
   "outputs": [],
   "source": [
    "student_zipped.iloc[14].dropna()"
   ]
  },
  {
   "cell_type": "code",
   "execution_count": null,
   "metadata": {},
   "outputs": [],
   "source": [
    "# save the entire row of attempts and results\n",
    "student_records = {}\n",
    "for index, row in student_zipped.iterrows():\n",
    "    courses_on_record = row.dropna().index.tolist()\n",
    "    results = row.dropna().values.tolist()\n",
    "    student_records[index] = list(zip(courses_on_record,results))\n",
    "student_records"
   ]
  },
  {
   "cell_type": "code",
   "execution_count": null,
   "metadata": {},
   "outputs": [],
   "source": [
    "#for index, lst in student_records.items():\n",
    "    "
   ]
  },
  {
   "cell_type": "code",
   "execution_count": null,
   "metadata": {},
   "outputs": [],
   "source": [
    "years_dict = {}\n",
    "years_list = []\n",
    "num_leave=0\n",
    "first_and_second_yr_courses = ['LSM','CONAD','CONTRACT','TORT',\n",
    "                               'LAND','EQUITY','CRIMINAL']\n",
    "for index, row in student_attempts.iterrows():\n",
    "    last_entry = row.dropna().index.tolist()[-1]\n",
    "    if (any(course in last_entry for course in first_and_second_yr_courses)\n",
    "        & ('201718' not in last_entry)):\n",
    "        years_dict[index] = (last_entry: student_results.at[index, last_entry])\n",
    "        years_list.append((last_entry, student_results.at[index, last_entry]))\n",
    "        num_leave+=1\n",
    "len(set(years_dict.keys()))"
   ]
  },
  {
   "cell_type": "code",
   "execution_count": null,
   "metadata": {},
   "outputs": [],
   "source": [
    "Counter(years_list)"
   ]
  },
  {
   "cell_type": "code",
   "execution_count": null,
   "metadata": {},
   "outputs": [],
   "source": [
    "first_year_courses = ['LSM', 'CONTRACT', 'CONAD', 'TORT']\n",
    "num_quit_after_first_year_course = 0\n",
    "num_quit_after_second_year_course = 0\n",
    "for k,v in Counter(years_list).items():\n",
    "    if any(course in k[0] for course in first_year_courses):\n",
    "        num_quit_after_first_year_course += v\n",
    "    else:\n",
    "        num_quit_after_second_year_course += v"
   ]
  },
  {
   "cell_type": "code",
   "execution_count": null,
   "metadata": {},
   "outputs": [],
   "source": [
    "num_quit_after_first_year_course"
   ]
  },
  {
   "cell_type": "code",
   "execution_count": null,
   "metadata": {},
   "outputs": [],
   "source": [
    "num_quit_after_second_year_course"
   ]
  },
  {
   "cell_type": "code",
   "execution_count": null,
   "metadata": {},
   "outputs": [],
   "source": []
  }
 ],
 "metadata": {
  "kernelspec": {
   "display_name": "Python 3",
   "language": "python",
   "name": "python3"
  },
  "language_info": {
   "codemirror_mode": {
    "name": "ipython",
    "version": 3
   },
   "file_extension": ".py",
   "mimetype": "text/x-python",
   "name": "python",
   "nbconvert_exporter": "python",
   "pygments_lexer": "ipython3",
   "version": "3.7.0"
  }
 },
 "nbformat": 4,
 "nbformat_minor": 2
}
